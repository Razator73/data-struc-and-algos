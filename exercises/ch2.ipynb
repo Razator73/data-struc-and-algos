{
 "cells": [
  {
   "cell_type": "markdown",
   "metadata": {
    "collapsed": true,
    "pycharm": {
     "name": "#%% md\n"
    }
   },
   "source": [
    "# Chapter 2 Exercises"
   ]
  },
  {
   "cell_type": "code",
   "execution_count": 1,
   "outputs": [],
   "source": [
    "# import statements if needed"
   ],
   "metadata": {
    "collapsed": false,
    "pycharm": {
     "name": "#%%\n",
     "is_executing": false
    }
   }
  },
  {
   "cell_type": "markdown",
   "source": [
    "### R-2.1\n",
    "Give three examples of life-critical software applications.\n",
    "\n",
    "#### Answer\n",
    "1. Hospital equipment\n",
    "\n",
    "2. Air traffic control\n",
    "\n",
    "3. "
   ],
   "metadata": {
    "collapsed": false,
    "pycharm": {
     "name": "#%% md\n"
    }
   }
  },
  {
   "cell_type": "markdown",
   "source": [
    "### R-2.2\n",
    "Give an example of a software application in which adaptability can mean\n",
    "the difference between a prolonged lifetime of sales and bankruptcy.\n",
    "\n",
    "#### Answer\n",
    "Many instances come to mind, but any software company that can't change to meet the needs\n",
    "of its userbase will fail in the long run."
   ],
   "metadata": {
    "collapsed": false,
    "pycharm": {
     "name": "#%% md\n"
    }
   }
  },
  {
   "cell_type": "markdown",
   "source": [
    "### R-2.3\n",
    "Describe a component from a text-editor GUI and the methods that it encapsulates\n",
    "\n",
    "#### Answer\n",
    "Font change. It takes in the current shown font and then changes the type facing for each\n",
    "character shown\n"
   ],
   "metadata": {
    "collapsed": false,
    "pycharm": {
     "name": "#%% md\n"
    }
   }
  },
  {
   "cell_type": "markdown",
   "source": [
    "### R-2.4\n",
    "Write a Python class, Flower, that has three instance variables of type str,\n",
    "int, and float, that respectively represent the name of the flower, its number of petals, and its price. Your class must include a constructor method\n",
    "that initializes each variable to an appropriate value, and your class should\n",
    "include methods for setting the value of each type, and retrieving the value\n",
    "of each type."
   ],
   "metadata": {
    "collapsed": false,
    "pycharm": {
     "name": "#%% md\n"
    }
   }
  },
  {
   "cell_type": "code",
   "execution_count": 1,
   "outputs": [],
   "source": [
    "class Flower:\n",
    "    \n",
    "    def __init__(self, name, petals, price):\n",
    "        self._name = name\n",
    "        self._petals = petals\n",
    "        self._price = price\n",
    "        \n",
    "    def get_value(self):\n",
    "        return self._price\n",
    "    \n",
    "    def set_value(self, new_value):\n",
    "        self._price = new_value"
   ],
   "metadata": {
    "collapsed": false,
    "pycharm": {
     "name": "#%%\n",
     "is_executing": false
    }
   }
  },
  {
   "cell_type": "markdown",
   "source": [
    "The solutions to `R-2.5-7` are all contained in the class coded below\n",
    "### R-2.5\n",
    "Use the techniques of Section 1.7 to revise the charge and make payment\n",
    "methods of the CreditCard class to ensure that the caller sends a number\n",
    "as a parameter.\n",
    "### R-2.6\n",
    "If the parameter to the make payment method of the CreditCard class\n",
    "were a negative number, that would have the effect of raising the balance\n",
    "on the account. Revise the implementation so that it raises a ValueError if\n",
    "a negative value is sent.\n",
    "### R-2.7\n",
    "The CreditCard class of Section 2.3 initializes the balance of a new account to zero. Modify that class so that a new account can be given a\n",
    "nonzero balance using an optional fifth parameter to the constructor. The\n",
    "four-parameter constructor syntax should continue to produce an account\n",
    "with zero balance."
   ],
   "metadata": {
    "collapsed": false,
    "pycharm": {
     "name": "#%% md\n"
    }
   }
  },
  {
   "cell_type": "code",
   "execution_count": 2,
   "outputs": [],
   "source": [
    "class CreditCard:\n",
    "    \"\"\"A consumer credit card.\"\"\"\n",
    "    \n",
    "    # I wrote the example with R-2.7 already implemented\n",
    "    def __init__(self, customer, bank, acnt, limit, bal=0):\n",
    "        \"\"\"Create a new credit card instance\n",
    "        \n",
    "        customer   the name of the customer (e.g. 'John Bowman')\n",
    "        bank       the name of the bank (e.g. 'California Savings')\n",
    "        acnt       the account identifier (e.g. '5391 0375 9387 5309')\n",
    "        limit      credit limit (measured in dollars)\n",
    "        bal        the current balance of the card (defaults to zero)\n",
    "        \"\"\"\n",
    "        self._customer = customer\n",
    "        self._bank = bank\n",
    "        self._account = acnt\n",
    "        self._limit = limit\n",
    "        self._balance = bal\n",
    "        \n",
    "    def get_customer(self):\n",
    "        \"\"\"Return name of the customer.\"\"\"\n",
    "        return self._customer\n",
    "    \n",
    "    def get_bank(self):\n",
    "        \"\"\"Return the bank's name.\"\"\"\n",
    "        return self._bank\n",
    "    \n",
    "    def get_account(self):\n",
    "        \"\"\"Return the card identifying number (typically stored as a string).\"\"\"\n",
    "        return self._account\n",
    "    \n",
    "    def get_limit(self):\n",
    "        \"\"\"Return current credit limit.\"\"\"\n",
    "        return self._limit\n",
    "    \n",
    "    def get_balance(self):\n",
    "        \"\"\"Return current balance.\"\"\"\n",
    "        return self._balance\n",
    "    \n",
    "    def charge(self, price):\n",
    "        \"\"\"Charge given price to the card, assuming sufficient credit limit.\n",
    "        \n",
    "        Return True if charge was processed; False if change was denied.\n",
    "        \"\"\"\n",
    "        if price + self._balance > self._limit:\n",
    "            return False\n",
    "        else:\n",
    "            self._balance += price\n",
    "            return True\n",
    "        \n",
    "    def make_payment(self, amount):\n",
    "        \"\"\"Process customer payment that reduces balance.\"\"\"\n",
    "        # exercies R-2.5 and R-2.6\n",
    "        if isinstance(amount, (int, float)) and amount > 0:\n",
    "            self._balance -= amount\n",
    "        else:\n",
    "            raise ValueError('Please pass a positive integer or float')"
   ],
   "metadata": {
    "collapsed": false,
    "pycharm": {
     "name": "#%%\n",
     "is_executing": false
    }
   }
  },
  {
   "cell_type": "markdown",
   "source": [
    "### R-2.8\n",
    "Modify the declaration of the first for loop in the CreditCard tests, from\n",
    "Code Fragment 2.3, so that it will eventually cause exactly one of the three\n",
    "credit cards to go over its credit limit. Which credit card is it?\n",
    "\n",
    "#### Answer\n",
    "See the code below. It is card with number `5391 0375 9387 5309`\n"
   ],
   "metadata": {
    "collapsed": false,
    "pycharm": {
     "name": "#%% md\n"
    }
   }
  },
  {
   "cell_type": "code",
   "execution_count": 10,
   "outputs": [],
   "source": [
    "wallet = []\n",
    "wallet.append(CreditCard('John Bowman', 'California Savings', '5391 0375 9387 5309', 1000))\n",
    "wallet.append(CreditCard('John Bowman', 'California Federal', '3485 0399 3395 1954', 3500))\n",
    "wallet.append(CreditCard('John Bowman', 'California Finance', '5391 0375 9387 5309', 5000))\n",
    "\n",
    "for i in range(1, 46):\n",
    "    wallet[0].charge(i)\n",
    "    wallet[1].charge(2 * i)\n",
    "    wallet[2].charge(3 * i)"
   ],
   "metadata": {
    "collapsed": false,
    "pycharm": {
     "name": "#%%\n",
     "is_executing": false
    }
   }
  },
  {
   "cell_type": "markdown",
   "source": [
    "See the modified `Vector` class below for the solution to `R-2.9-15`\n",
    "### R-2.9\n",
    "Implement the sub method for the Vector class of Section 2.3.3, so\n",
    "that the expression u−v returns a new vector instance representing the\n",
    "difference between two vectors\n",
    "### R-2.10\n",
    "Implement the neg method for the Vector class of Section 2.3.3, so\n",
    "that the expression −v returns a new vector instance whose coordinates\n",
    "are all the negated values of the respective coordinates of v.\n",
    "### R-2.11\n",
    "In Section 2.3.3, we note that our Vector class supports a syntax such as\n",
    "v = u + [5, 3, 10, −2, 1], in which the sum of a vector and list returns\n",
    "a new vector. However, the syntax v = [5, 3, 10, −2, 1] + u is illegal.\n",
    "Explain how the Vector class definition can be revised so that this syntax\n",
    "generates a new vector\n",
    "### R-2.12\n",
    "\n",
    "### R-2.13\n",
    "\n",
    "### R-2.14\n",
    "\n",
    "### R-2.15\n"
   ],
   "metadata": {
    "collapsed": false,
    "pycharm": {
     "name": "#%% md\n"
    }
   }
  },
  {
   "cell_type": "code",
   "execution_count": 11,
   "outputs": [],
   "source": [
    "class Vector:\n",
    "    \"\"\"Represent a vector in a multidimensional space.\"\"\"\n",
    "    \n",
    "    def __init__(self, d):\n",
    "        \"\"\"Create a d-dimensional vector of zeros.\"\"\"\n",
    "        self._coords = [0] * d\n",
    "        \n",
    "    def __len__(self):\n",
    "        \"\"\"Return the dimension of the vector.\"\"\"\n",
    "        return len(self._coords)\n",
    "    \n",
    "    def __getitem__(self, j):\n",
    "        \"\"\"Return jth coordinate of vector.\"\"\"\n",
    "        return self._coords[j]\n",
    "    \n",
    "    def __setitem__(self, j, val):\n",
    "        \"\"\"Set jth coordinate of vector to given value.\"\"\"\n",
    "        self._coords[j] = val\n",
    "        \n",
    "    def __add__(self, other):\n",
    "        \"\"\"Return sum of two vectors.\"\"\"\n",
    "        if len(self) != len(other):\n",
    "            raise ValueError('dimensions must be the same')\n",
    "        result = Vector(len(self))\n",
    "        for j in range(len(self)):\n",
    "            result[j] = self[j] + other[j]\n",
    "        return result\n",
    "    \n",
    "    def __eq__(self, other):\n",
    "        \"\"\"Return True if vector has same coordinates as other.\"\"\"\n",
    "        return self._coords == other._coords\n",
    "    \n",
    "    def __ne__(self, other):\n",
    "        \"\"\"Return True if vector differs from other.\"\"\"\n",
    "        return not self == other\n",
    "    \n",
    "    def __mul__(self, other):\n",
    "        if isinstance(other, (int, float)):\n",
    "            result = Vector(len(self))\n",
    "            for j in range(len(self)):\n",
    "                result[j] = self._coords * other\n",
    "            return result\n",
    "        elif isinstance(other, Vector):\n",
    "            result = 0\n",
    "            for j in range(len(self)):\n",
    "                result += self._coords[j] * other._coords[j]\n",
    "        else:\n",
    "            raise ValueError('Must multiply by an integer')\n",
    "        \n",
    "    def __rmul__(self, other):\n",
    "        return self * other\n",
    "    \n",
    "    def __str__(self):\n",
    "        \"\"\"Produce string representation of vector.\"\"\"\n",
    "        return f'<{str(self._coords)[1:-1]}>'"
   ],
   "metadata": {
    "collapsed": false,
    "pycharm": {
     "name": "#%%\n",
     "is_executing": false
    }
   }
  },
  {
   "cell_type": "code",
   "execution_count": 13,
   "outputs": [
    {
     "data": {
      "text/plain": "True"
     },
     "metadata": {},
     "output_type": "execute_result",
     "execution_count": 13
    }
   ],
   "source": [
    "v = Vector(3)\n",
    "isinstance(v, Vector)"
   ],
   "metadata": {
    "collapsed": false,
    "pycharm": {
     "name": "#%%\n",
     "is_executing": false
    }
   }
  },
  {
   "cell_type": "code",
   "execution_count": null,
   "outputs": [],
   "source": [
    "\n"
   ],
   "metadata": {
    "collapsed": false,
    "pycharm": {
     "name": "#%%\n"
    }
   }
  }
 ],
 "metadata": {
  "kernelspec": {
   "display_name": "Python 3",
   "language": "python",
   "name": "python3"
  },
  "language_info": {
   "codemirror_mode": {
    "name": "ipython",
    "version": 2
   },
   "file_extension": ".py",
   "mimetype": "text/x-python",
   "name": "python",
   "nbconvert_exporter": "python",
   "pygments_lexer": "ipython2",
   "version": "2.7.6"
  },
  "pycharm": {
   "stem_cell": {
    "cell_type": "raw",
    "source": [],
    "metadata": {
     "collapsed": false
    }
   }
  }
 },
 "nbformat": 4,
 "nbformat_minor": 0
}