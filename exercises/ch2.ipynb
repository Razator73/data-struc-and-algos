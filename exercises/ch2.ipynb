{
 "cells": [
  {
   "cell_type": "markdown",
   "metadata": {
    "collapsed": true,
    "pycharm": {
     "name": "#%% md\n"
    }
   },
   "source": [
    "# Chapter 2 Exercises"
   ]
  },
  {
   "cell_type": "code",
   "execution_count": 1,
   "outputs": [],
   "source": [
    "# import statements if needed"
   ],
   "metadata": {
    "collapsed": false,
    "pycharm": {
     "name": "#%%\n",
     "is_executing": false
    }
   }
  },
  {
   "cell_type": "markdown",
   "source": [
    "### R-2.1\n",
    "Give three examples of life-critical software applications.\n",
    "\n",
    "#### Answer\n",
    "1. Hospital equipment\n",
    "\n",
    "2. Air traffic control\n",
    "\n",
    "3. "
   ],
   "metadata": {
    "collapsed": false,
    "pycharm": {
     "name": "#%% md\n"
    }
   }
  },
  {
   "cell_type": "markdown",
   "source": [
    "### R-2.2\n",
    "Give an example of a software application in which adaptability can mean\n",
    "the difference between a prolonged lifetime of sales and bankruptcy.\n",
    "\n",
    "#### Answer\n",
    "Many instances come to mind, but any software company that can't change to meet the needs\n",
    "of its userbase will fail in the long run."
   ],
   "metadata": {
    "collapsed": false,
    "pycharm": {
     "name": "#%% md\n"
    }
   }
  },
  {
   "cell_type": "markdown",
   "source": [
    "### R-2.3\n",
    "Describe a component from a text-editor GUI and the methods that it encapsulates\n",
    "\n",
    "#### Answer\n",
    "Font change. It takes in the current shown font and then changes the type facing for each\n",
    "character shown\n"
   ],
   "metadata": {
    "collapsed": false,
    "pycharm": {
     "name": "#%% md\n"
    }
   }
  },
  {
   "cell_type": "markdown",
   "source": [
    "### R-2.4\n",
    "Write a Python class, Flower, that has three instance variables of type str,\n",
    "int, and float, that respectively represent the name of the flower, its number of petals, and its price. Your class must include a constructor method\n",
    "that initializes each variable to an appropriate value, and your class should\n",
    "include methods for setting the value of each type, and retrieving the value\n",
    "of each type."
   ],
   "metadata": {
    "collapsed": false,
    "pycharm": {
     "name": "#%% md\n"
    }
   }
  },
  {
   "cell_type": "code",
   "execution_count": 1,
   "outputs": [],
   "source": [
    "class Flower:\n",
    "    \n",
    "    def __init__(self, name, petals, price):\n",
    "        self._name = name\n",
    "        self._petals = petals\n",
    "        self._price = price\n",
    "        \n",
    "    def get_value(self):\n",
    "        return self._price\n",
    "    \n",
    "    def set_value(self, new_value):\n",
    "        self._price = new_value"
   ],
   "metadata": {
    "collapsed": false,
    "pycharm": {
     "name": "#%%\n",
     "is_executing": false
    }
   }
  },
  {
   "cell_type": "markdown",
   "source": [
    "The solutions to `R-2.5-7` are all contained in the class coded below\n",
    "### R-2.5\n",
    "Use the techniques of Section 1.7 to revise the charge and make payment\n",
    "methods of the CreditCard class to ensure that the caller sends a number\n",
    "as a parameter.\n",
    "### R-2.6\n",
    "If the parameter to the make payment method of the CreditCard class\n",
    "were a negative number, that would have the effect of raising the balance\n",
    "on the account. Revise the implementation so that it raises a ValueError if\n",
    "a negative value is sent.\n",
    "### R-2.7\n",
    "The CreditCard class of Section 2.3 initializes the balance of a new account to zero. Modify that class so that a new account can be given a\n",
    "nonzero balance using an optional fifth parameter to the constructor. The\n",
    "four-parameter constructor syntax should continue to produce an account\n",
    "with zero balance."
   ],
   "metadata": {
    "collapsed": false,
    "pycharm": {
     "name": "#%% md\n"
    }
   }
  },
  {
   "cell_type": "code",
   "execution_count": 2,
   "outputs": [],
   "source": [
    "class CreditCard:\n",
    "    \"\"\"A consumer credit card.\"\"\"\n",
    "    \n",
    "    # I wrote the example with R-2.7 already implemented\n",
    "    def __init__(self, customer, bank, acnt, limit, bal=0):\n",
    "        \"\"\"Create a new credit card instance\n",
    "        \n",
    "        customer   the name of the customer (e.g. 'John Bowman')\n",
    "        bank       the name of the bank (e.g. 'California Savings')\n",
    "        acnt       the account identifier (e.g. '5391 0375 9387 5309')\n",
    "        limit      credit limit (measured in dollars)\n",
    "        bal        the current balance of the card (defaults to zero)\n",
    "        \"\"\"\n",
    "        self._customer = customer\n",
    "        self._bank = bank\n",
    "        self._account = acnt\n",
    "        self._limit = limit\n",
    "        self._balance = bal\n",
    "        \n",
    "    def get_customer(self):\n",
    "        \"\"\"Return name of the customer.\"\"\"\n",
    "        return self._customer\n",
    "    \n",
    "    def get_bank(self):\n",
    "        \"\"\"Return the bank's name.\"\"\"\n",
    "        return self._bank\n",
    "    \n",
    "    def get_account(self):\n",
    "        \"\"\"Return the card identifying number (typically stored as a string).\"\"\"\n",
    "        return self._account\n",
    "    \n",
    "    def get_limit(self):\n",
    "        \"\"\"Return current credit limit.\"\"\"\n",
    "        return self._limit\n",
    "    \n",
    "    def get_balance(self):\n",
    "        \"\"\"Return current balance.\"\"\"\n",
    "        return self._balance\n",
    "    \n",
    "    def charge(self, price):\n",
    "        \"\"\"Charge given price to the card, assuming sufficient credit limit.\n",
    "        \n",
    "        Return True if charge was processed; False if change was denied.\n",
    "        \"\"\"\n",
    "        if price + self._balance > self._limit:\n",
    "            return False\n",
    "        else:\n",
    "            self._balance += price\n",
    "            return True\n",
    "        \n",
    "    def make_payment(self, amount):\n",
    "        \"\"\"Process customer payment that reduces balance.\"\"\"\n",
    "        # exercies R-2.5 and R-2.6\n",
    "        if isinstance(amount, (int, float)) and amount > 0:\n",
    "            self._balance -= amount\n",
    "        else:\n",
    "            raise ValueError('Please pass a positive integer or float')"
   ],
   "metadata": {
    "collapsed": false,
    "pycharm": {
     "name": "#%%\n",
     "is_executing": false
    }
   }
  },
  {
   "cell_type": "markdown",
   "source": [
    "### R-2.8\n",
    "Modify the declaration of the first for loop in the CreditCard tests, from\n",
    "Code Fragment 2.3, so that it will eventually cause exactly one of the three\n",
    "credit cards to go over its credit limit. Which credit card is it?\n",
    "\n",
    "#### Answer\n",
    "See the code below. It is card with number `5391 0375 9387 5309`\n"
   ],
   "metadata": {
    "collapsed": false,
    "pycharm": {
     "name": "#%% md\n"
    }
   }
  },
  {
   "cell_type": "code",
   "execution_count": 10,
   "outputs": [],
   "source": [
    "wallet = []\n",
    "wallet.append(CreditCard('John Bowman', 'California Savings', '5391 0375 9387 5309', 1000))\n",
    "wallet.append(CreditCard('John Bowman', 'California Federal', '3485 0399 3395 1954', 3500))\n",
    "wallet.append(CreditCard('John Bowman', 'California Finance', '5391 0375 9387 5309', 5000))\n",
    "\n",
    "for i in range(1, 46):\n",
    "    wallet[0].charge(i)\n",
    "    wallet[1].charge(2 * i)\n",
    "    wallet[2].charge(3 * i)"
   ],
   "metadata": {
    "collapsed": false,
    "pycharm": {
     "name": "#%%\n",
     "is_executing": false
    }
   }
  },
  {
   "cell_type": "markdown",
   "source": [
    "See the modified `Vector` class below for the solution to `R-2.9-15`\n",
    "### R-2.9\n",
    "Implement the `__sub__` method for the Vector class of Section 2.3.3, so\n",
    "that the expression `u−v` returns a new vector instance representing the\n",
    "difference between two vectors\n",
    "### R-2.10\n",
    "Implement the `__neg__` method for the Vector class of Section 2.3.3, so\n",
    "that the expression `−v` returns a new vector instance whose coordinates\n",
    "are all the negated values of the respective coordinates of `v`.\n",
    "### R-2.11\n",
    "In Section 2.3.3, we note that our Vector class supports a syntax such as\n",
    "`v = u + [5, 3, 10, −2, 1]`, in which the sum of a vector and list returns\n",
    "a new vector. However, the syntax `v = [5, 3, 10, −2, 1] + u` is illegal.\n",
    "Explain how the Vector class definition can be revised so that this syntax\n",
    "generates a new vector\n",
    "### R-2.12\n",
    "Implement the `__mul__` method for the Vector class of Section 2.3.3, so\n",
    "that the expression `v * 3` returns a new vector with coordinates that are 3\n",
    "times the respective coordinates of `v`.\n",
    "### R-2.13\n",
    "Exercise R-2.12 asks for an implementation of `__mul__` , for the Vector\n",
    "class of Section 2.3.3, to provide support for the syntax `v * 3`. Implement\n",
    "the `__rmul__` method, to provide additional support for syntax `3 * v`.\n",
    "### R-2.14\n",
    "Implement the `__mul__` method for the Vector class of Section 2.3.3, so\n",
    "that the expression `u * v` returns a scalar that represents the dot product of\n",
    "the vectors, that is, $\\sum^d_{i=1} u_i \\cdot v_i$.\n",
    "### R-2.15\n",
    "The Vector class of Section 2.3.3 provides a constructor that takes an integer `d`, \n",
    "and produces a $d$-dimensional vector with all coordinates equal to 0. \n",
    "Another convenient form for creating a new vector would be to send the\n",
    "constructor a parameter that is some iterable type representing a sequence\n",
    "of numbers, and to create a vector with dimension equal to the length of\n",
    "that sequence and coordinates equal to the sequence values. For example,\n",
    "`Vector([4, 7, 5])` would produce a three-dimensional vector with coordinates $<4, 7, 5>$. \n",
    "Modify the constructor so that either of these forms is\n",
    "acceptable; that is, if a single integer is sent, it produces a vector of that\n",
    "dimension with all zeros, but if a sequence of numbers is provided, it \n",
    "produces a vector with coordinates based on that sequence."
   ],
   "metadata": {
    "collapsed": false,
    "pycharm": {
     "name": "#%% md\n"
    }
   }
  },
  {
   "cell_type": "code",
   "execution_count": 16,
   "outputs": [],
   "source": [
    "class Vector:\n",
    "    \"\"\"Represent a vector in a multidimensional space.\"\"\"\n",
    "    \n",
    "    def __init__(self, d):\n",
    "        \"\"\"Create a d-dimensional vector of zeros.\"\"\"\n",
    "        if isinstance(d, int):\n",
    "            self._coords = [0] * d\n",
    "        elif isinstance(d, (list, tuple)):                              # R-2.15\n",
    "            self._coords = list(d)\n",
    "        \n",
    "    def __len__(self):\n",
    "        \"\"\"Return the dimension of the vector.\"\"\"\n",
    "        return len(self._coords)\n",
    "    \n",
    "    def __getitem__(self, j):\n",
    "        \"\"\"Return jth coordinate of vector.\"\"\"\n",
    "        return self._coords[j]\n",
    "    \n",
    "    def __setitem__(self, j, val):\n",
    "        \"\"\"Set jth coordinate of vector to given value.\"\"\"\n",
    "        self._coords[j] = val\n",
    "        \n",
    "    def __add__(self, other):\n",
    "        \"\"\"Return sum of two vectors.\"\"\"\n",
    "        if len(self) != len(other):\n",
    "            raise ValueError('dimensions must be the same')\n",
    "        result = Vector(len(self))\n",
    "        for j in range(len(self)):\n",
    "            result[j] = self[j] + other[j]\n",
    "        return result\n",
    "    \n",
    "    def __eq__(self, other):\n",
    "        \"\"\"Return True if vector has same coordinates as other.\"\"\"\n",
    "        return self._coords == other._coords\n",
    "    \n",
    "    def __ne__(self, other):\n",
    "        \"\"\"Return True if vector differs from other.\"\"\"\n",
    "        return not self == other\n",
    "    \n",
    "    def __mul__(self, other):                                           # R-2.12 and 14\n",
    "        if isinstance(other, (int, float)):\n",
    "            result = Vector(len(self))\n",
    "            for j in range(len(self)):\n",
    "                result[j] = self._coords[j] * other\n",
    "            return result\n",
    "        elif isinstance(other, (Vector, list, tuple)):\n",
    "            if len(self) != len(other):\n",
    "                raise ValueError('Vectors must be same length')\n",
    "            result = 0\n",
    "            for j in range(len(self)):\n",
    "                result += self._coords[j] * other[j]\n",
    "            return result\n",
    "        else:\n",
    "            raise ValueError('Must multiply by an integer')\n",
    "        \n",
    "    def __rmul__(self, other):                                          # R-2.13\n",
    "        return self * other\n",
    "    \n",
    "    def __radd__(self, other):                                          # R-2.11\n",
    "        return self + other\n",
    "    \n",
    "    def __neg__(self):                                                  # R-2.10\n",
    "        return -1 * self\n",
    "    \n",
    "    def __sub__(self, other):                                           # R-2.9\n",
    "        if isinstance(other, (list, tuple)) and len(self) == len(other):\n",
    "            return self + -Vector(other)\n",
    "        elif isinstance(other, Vector) and len(self) == len(other):\n",
    "            return self + -other\n",
    "        else:\n",
    "            raise ValueError('Must be a vector of the same length')\n",
    "        \n",
    "    def __rsub__(self, other):\n",
    "        if isinstance(other, (list, tuple)) and len(self) == len(other):\n",
    "            return Vector(other) + -self\n",
    "        else:\n",
    "            raise ValueError('Must be a vector of the same length')\n",
    "        \n",
    "    \n",
    "    def __str__(self):\n",
    "        \"\"\"Produce string representation of vector.\"\"\"\n",
    "        return f'<{str(self._coords)[1:-1]}>'"
   ],
   "metadata": {
    "collapsed": false,
    "pycharm": {
     "name": "#%%\n",
     "is_executing": false
    }
   }
  },
  {
   "cell_type": "code",
   "execution_count": 17,
   "outputs": [
    {
     "name": "stdout",
     "text": [
      "<3, 6, 9>\n",
      "<3, 6, 9>\n",
      "14\n",
      "<4, 4, 4>\n",
      "<4, 4, 4>\n",
      "<-1, -2, -3>\n",
      "<0, 0, 0>\n",
      "<0, 1, 2>\n",
      "<0, -1, -2>\n"
     ],
     "output_type": "stream"
    }
   ],
   "source": [
    "v = Vector([1, 2, 3])\n",
    "isinstance(v, Vector)\n",
    "print(v * 3)\n",
    "print(3 * v)\n",
    "print(v * v)\n",
    "print(v + [3, 2, 1])\n",
    "print([3, 2, 1] + v)\n",
    "print(-v)\n",
    "print(v - v)\n",
    "print(v - [1, 1, 1])\n",
    "print([1, 1, 1] - v)\n"
   ],
   "metadata": {
    "collapsed": false,
    "pycharm": {
     "name": "#%%\n",
     "is_executing": false
    }
   }
  },
  {
   "cell_type": "markdown",
   "source": [
    "### R-2.16\n",
    "Our Range class, from Section 2.3.5, relies on the formula\n",
    "`max(0, (stop − start + step − 1) // step)`\n",
    "to compute the number of elements in the range. It is not immediately evident why this formula provides the correct calculation, even if assuming\n",
    "a positive step size. Justify this formula, in your own words.\n",
    "\n",
    "#### Answer\n",
    "So the formula will take the stop and subtract the start to get the total range\n",
    "then it adds a step minus one to make sure that any edge cases are covered without\n",
    "adding an additional element then the integer division by step will take the floored\n",
    "result of the range divided by the steps.\n"
   ],
   "metadata": {
    "collapsed": false,
    "pycharm": {
     "name": "#%% md\n"
    }
   }
  },
  {
   "cell_type": "markdown",
   "source": [
    "### R-2.17\n",
    "Draw a class inheritance diagrame for the following set of classes:\n",
    "* Class `Goat` extend `object` and adds an instance variable `_tail` and \n",
    "methods `milk()` and `jump()`\n",
    "* Class `Pig` extends `object` and adds an instance variable `_nose` and \n",
    "methods `eat(food)` and `wallow()`\n",
    "* Class `Horse` extends object and adds instance variables `_height` and `_color`,\n",
    "and methods `run()` and `jump()`\n",
    "* Class `Racer()` extends `Horse` and adds method `race()`\n",
    "* Class `Equestrian` extends `Horse`, adding an instance variable `_weight` and\n",
    "methods `trot()` and `is_trained()`\n",
    "\n"
   ],
   "metadata": {
    "collapsed": false,
    "pycharm": {
     "name": "#%% md\n"
    }
   }
  },
  {
   "cell_type": "markdown",
   "source": [
    "### R-2.18\n",
    "Give a short fragment of Python code that uses the progression classes\n",
    "from Section 2.4.2 to find the 8th value of a Fibonacci progression that\n",
    "starts with 2 and 2 as its first two values"
   ],
   "metadata": {
    "collapsed": false,
    "pycharm": {
     "name": "#%% md\n"
    }
   }
  },
  {
   "cell_type": "code",
   "execution_count": 18,
   "outputs": [],
   "source": [
    "class Progression:\n",
    "    \"\"\"Iterator producing a generic progression.\n",
    "    \n",
    "    Default iterator produces the non-negative integers \n",
    "    \"\"\"\n",
    "    \n",
    "    def __init__(self, start=0):\n",
    "        \"\"\"Initialize current to the first value of the progression\"\"\"\n",
    "        self._current = start\n",
    "        \n",
    "    def _advance(self):\n",
    "        \"\"\"Update self._current to a new value.        \n",
    "        \n",
    "        This should be overridden by a sublcass to customize progression\n",
    "        \n",
    "        By convention, if current is set to None, this designates the end\n",
    "        of a finite progression.\n",
    "        \"\"\"\n",
    "        self._current += 1\n",
    "        \n",
    "    def __next__(self):\n",
    "        \"\"\"Return the next element, or else raise StopIteration error.\"\"\"\n",
    "        if self._current is None:\n",
    "            raise StopIteration\n",
    "        else:\n",
    "            answer = self._current\n",
    "            self._advance()\n",
    "            return answer\n",
    "    \n",
    "    def __iter__(self):\n",
    "        \"\"\"By convention, an iterator must return itself as an iterator.\"\"\"\n",
    "        return self\n",
    "    \n",
    "    def print_progression(self, n):\n",
    "        \"\"\"Print next n values of the progression.\"\"\"\n",
    "        print(' '.join(str(next(self)) for j in range(n)))\n",
    "        \n",
    "class FibonacciProgression(Progression):\n",
    "    \"\"\"Iterator producing a generalized Fibacci progression.\"\"\"\n",
    "    \n",
    "    def __init__(self, first=0, second=1):\n",
    "        \"\"\"Creat a new fibonacci progression.\n",
    "        \n",
    "        first       the first term of the progression (default 0)\n",
    "        second      the second term of the progression (default 1)\n",
    "        \"\"\"\n",
    "        super().__init__(first)\n",
    "        self._prev = second - first\n",
    "        \n",
    "    def _advance(self):\n",
    "        \"\"\"Update the current value by taking sum of previous two.\"\"\"\n",
    "        self._prev, self._current = self._current, self._prev + self._current"
   ],
   "metadata": {
    "collapsed": false,
    "pycharm": {
     "name": "#%%\n",
     "is_executing": false
    }
   }
  },
  {
   "cell_type": "code",
   "execution_count": 20,
   "outputs": [
    {
     "name": "stdout",
     "text": [
      "68\n"
     ],
     "output_type": "stream"
    }
   ],
   "source": [
    "fib_22 = FibonacciProgression(2, 2)\n",
    "i = 0\n",
    "for k in fib_22:\n",
    "    if i < 8:\n",
    "        i += 1\n",
    "    else:\n",
    "        print(k)\n",
    "        break\n"
   ],
   "metadata": {
    "collapsed": false,
    "pycharm": {
     "name": "#%%\n",
     "is_executing": false
    }
   }
  },
  {
   "cell_type": "markdown",
   "source": [
    "### R-2.19\n",
    "When using the ArithmeticProgression class of Section 2.4.2 with an \n",
    "increment of 128 and a start of 0, how many calls to next can we make\n",
    "before we reach an integer of $2^{63}$ or larger?"
   ],
   "metadata": {
    "collapsed": false,
    "pycharm": {
     "name": "#%% md\n"
    }
   }
  },
  {
   "cell_type": "code",
   "execution_count": 21,
   "outputs": [],
   "source": [
    "class ArithmeticProgression(Progression):       # inherit from Progression\n",
    "    \"\"\"Iterator producing an arithmetic progression.\"\"\"\n",
    "    \n",
    "    def __init__(self, increment=1, start=0):\n",
    "        \"\"\"Create a new arithmetic progression.\n",
    "        \n",
    "        increment   the fixed constant to add to each term (default 1)\n",
    "        start       the first term of the progression (default 0)\n",
    "        \"\"\"\n",
    "        super().__init__(start)                 # initialize base class\n",
    "        self._increment = increment\n",
    "        \n",
    "    def _advance(self):                         # override inherited version\n",
    "        \"\"\"Update current value by adding the fixed increment\"\"\"\n",
    "        self._current += self._increment"
   ],
   "metadata": {
    "collapsed": false,
    "pycharm": {
     "name": "#%%\n",
     "is_executing": false
    }
   }
  },
  {
   "cell_type": "code",
   "execution_count": null,
   "outputs": [],
   "source": [
    "arth_128 = ArithmeticProgression(128)\n",
    "i = 0\n",
    "for k in arth_128:\n",
    "    if k > 2 ** 63:\n",
    "        print(i)\n",
    "        break\n",
    "    else:\n",
    "        i += 1"
   ],
   "metadata": {
    "collapsed": false,
    "pycharm": {
     "name": "#%%\n",
     "is_executing": true
    }
   }
  },
  {
   "cell_type": "markdown",
   "source": [
    "### R-2.20\n",
    "What are some potential efficiency disadvantages of having very deep inheritance \n",
    "trees, that is, a large set of classes, A, B, C, and so on, such that\n",
    "B extends A, C extends B, D extends C, etc.?\n",
    "\n",
    "#### Answer\n",
    "Debugging is a nightmare. It's hard to keep straight which class has which methods and \n",
    "which methods have been overwritten and which haven't."
   ],
   "metadata": {
    "collapsed": false,
    "pycharm": {
     "name": "#%% md\n"
    }
   }
  },
  {
   "cell_type": "markdown",
   "source": [
    "### R-2.21\n",
    "What are some potential efficiency disadvantages of having very deep inheritance trees, \n",
    "that is, a large set of classes, A, B, C, and so on, such that\n",
    "B extends A, C extends B, D extends C, etc.?\n",
    "\n",
    "#### Answer\n",
    "Chance of a lot of duplicate code\n"
   ],
   "metadata": {
    "collapsed": false,
    "pycharm": {
     "name": "#%% md\n"
    }
   }
  }
 ],
 "metadata": {
  "kernelspec": {
   "display_name": "Python 3",
   "language": "python",
   "name": "python3"
  },
  "language_info": {
   "codemirror_mode": {
    "name": "ipython",
    "version": 2
   },
   "file_extension": ".py",
   "mimetype": "text/x-python",
   "name": "python",
   "nbconvert_exporter": "python",
   "pygments_lexer": "ipython2",
   "version": "2.7.6"
  },
  "pycharm": {
   "stem_cell": {
    "cell_type": "raw",
    "source": [],
    "metadata": {
     "collapsed": false
    }
   }
  }
 },
 "nbformat": 4,
 "nbformat_minor": 0
}