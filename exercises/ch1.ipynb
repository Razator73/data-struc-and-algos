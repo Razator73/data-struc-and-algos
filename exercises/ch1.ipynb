{
 "cells": [
  {
   "cell_type": "markdown",
   "metadata": {
    "pycharm": {
     "name": "#%% md\n"
    }
   },
   "source": [
    "# Chapter 1 Exercises"
   ]
  },
  {
   "cell_type": "code",
   "execution_count": 1,
   "metadata": {
    "pycharm": {
     "is_executing": false
    }
   },
   "outputs": [],
   "source": [
    "import random"
   ]
  },
  {
   "cell_type": "markdown",
   "metadata": {},
   "source": [
    "### R-1.1\n",
    "Write a short Python function, `is_multiple(n, m)`, that takes two integer\n",
    "values and returns `True` if `n` is a multiple of `m`, that is, `n = mi` for some\n",
    "integer `i`, and `False` otherwise."
   ]
  },
  {
   "cell_type": "code",
   "execution_count": 2,
   "metadata": {
    "pycharm": {
     "is_executing": false,
     "name": "#%%\n"
    }
   },
   "outputs": [],
   "source": [
    "def is_multiple(n, m):\n",
    "    return True if n % m == 0 else False\n",
    "\n",
    "\n",
    "assert is_multiple(6, 3)\n",
    "assert not is_multiple(7, 2)"
   ]
  },
  {
   "cell_type": "markdown",
   "metadata": {
    "pycharm": {
     "name": "#%% md\n"
    }
   },
   "source": [
    "### R-1.2\n",
    "Write a short Python function, `is_even(k)`, that takes an integer value and\n",
    "returns `True` if `k` is even, and `False` otherwise. However, your function\n",
    "cannot use the multiplication, modulo, or division operators."
   ]
  },
  {
   "cell_type": "code",
   "execution_count": 3,
   "metadata": {
    "pycharm": {
     "is_executing": false,
     "name": "#%%\n"
    }
   },
   "outputs": [],
   "source": [
    "def is_even(k):\n",
    "    k = k if k >= 0 else -k\n",
    "    while k >= 0:\n",
    "        if k == 0:\n",
    "            return True\n",
    "        k -= 2\n",
    "    return False\n",
    "\n",
    "\n",
    "assert is_even(8)\n",
    "assert is_even(0)\n",
    "assert is_even(-12)\n",
    "assert not is_even(9)\n",
    "assert not is_even(-13)"
   ]
  },
  {
   "cell_type": "markdown",
   "metadata": {},
   "source": [
    "### R-1.3\n",
    "Write a short Python function, `minmax(data)`, that takes a sequence of\n",
    "one or more numbers, and returns the smallest and largest numbers, in the\n",
    "form of a tuple of length two. Do not use the built-in functions min or\n",
    "max in implementing your solution"
   ]
  },
  {
   "cell_type": "code",
   "execution_count": 4,
   "metadata": {
    "pycharm": {
     "is_executing": false,
     "name": "#%%\n"
    }
   },
   "outputs": [],
   "source": [
    "def minmax(data):\n",
    "    min_num = max_num = None\n",
    "    for number in data:\n",
    "        if not min_num and not max_num:\n",
    "            min_num = number\n",
    "            max_num = number\n",
    "        min_num = number if number < min_num else min_num\n",
    "        max_num = number if number > max_num else max_num\n",
    "    return min_num, max_num\n",
    "\n",
    "\n",
    "assert minmax([1, 3, 9, 10]) == (1, 10)\n",
    "assert minmax([-5, 5, -3, 2]) == (-5, 5)"
   ]
  },
  {
   "cell_type": "markdown",
   "metadata": {},
   "source": [
    "### R-1.4\n",
    "Write a short Python function that takes a positive integer `n` and returns\n",
    "the sum of the squares of all the positive integers smaller than `n`."
   ]
  },
  {
   "cell_type": "code",
   "execution_count": 5,
   "metadata": {
    "pycharm": {
     "is_executing": false,
     "name": "#%%\n"
    }
   },
   "outputs": [],
   "source": [
    "def sum_squares(n):\n",
    "    return sum(k * k for k in range(1, n))\n",
    "\n",
    "\n",
    "assert sum_squares(1) == 0\n",
    "assert sum_squares(2) == 1\n",
    "assert sum_squares(3) == 5\n",
    "assert sum_squares(6) == 55"
   ]
  },
  {
   "cell_type": "markdown",
   "metadata": {},
   "source": [
    "### R-1.5\n",
    "Give a single command that computes the sum from Exercise `R-1.4`, relying on Python’s \n",
    "comprehension syntax and the built-in sum function.\n",
    "\n",
    "#### Answer\n",
    "Used the methods here to do the last problem"
   ]
  },
  {
   "cell_type": "markdown",
   "metadata": {},
   "source": [
    "### R-1.6 and R-1.7\n",
    "Write a short Python function that takes a positive integer `n` and returns\n",
    "the sum of the squares of all the odd positive integers smaller than `n`.\n",
    "\n",
    "Give a single command that computes the sum from Exercise `R-1.6`, relying on Python’s \n",
    "comprehension syntax and the built-in sum function."
   ]
  },
  {
   "cell_type": "code",
   "execution_count": 6,
   "metadata": {
    "pycharm": {
     "is_executing": false,
     "name": "#%%\n"
    }
   },
   "outputs": [],
   "source": [
    "def sum_odd_squares(n):\n",
    "    return sum(k * k for k in range(1, n) if not k % 2 == 0)\n",
    "\n",
    "\n",
    "assert sum_odd_squares(1) == 0\n",
    "assert sum_odd_squares(2) == 1\n",
    "assert sum_odd_squares(3) == 1\n",
    "assert sum_odd_squares(6) == 35"
   ]
  },
  {
   "cell_type": "markdown",
   "metadata": {},
   "source": [
    "### R-1.8\n",
    "Python allows negative integers to be used as indices into a sequence,\n",
    "such as a string. If string `s` has length `n`, and expression `s[k]` is used for index \n",
    "`−n ≤ k < 0`, what is the equivalent index `j ≥ 0` such that `s[j]` references\n",
    "the same element?\n",
    "\n",
    "#### answer\n",
    "`j = n + k`"
   ]
  },
  {
   "cell_type": "markdown",
   "metadata": {},
   "source": [
    "### R-1.9\n",
    "What parameters should be sent to the `range` constructor, to produce a\n",
    "range with values 50, 60, 70, 80?"
   ]
  },
  {
   "cell_type": "code",
   "execution_count": 7,
   "metadata": {
    "pycharm": {
     "is_executing": false,
     "name": "#%%\n"
    }
   },
   "outputs": [],
   "source": [
    "assert tuple(range(50, 90, 10)) == (50, 60, 70, 80)"
   ]
  },
  {
   "cell_type": "markdown",
   "metadata": {},
   "source": [
    "### R-1.10\n",
    "What parameters should be sent to the `range` constructor, to produce a\n",
    "range with values 8, 6, 4, 2, 0, −2, −4, −6, −8?"
   ]
  },
  {
   "cell_type": "code",
   "execution_count": 8,
   "metadata": {
    "pycharm": {
     "is_executing": false,
     "name": "#%%\n"
    }
   },
   "outputs": [],
   "source": [
    "assert tuple(range(8, -10, -2)) == (8, 6, 4, 2, 0, -2, -4, -6, -8)"
   ]
  },
  {
   "cell_type": "markdown",
   "metadata": {},
   "source": [
    "### R-1.11\n",
    "Demonstrate how to use Python’s list comprehension syntax to produce\n",
    "the list `[1, 2, 4, 8, 16, 32, 64, 128, 256]`."
   ]
  },
  {
   "cell_type": "code",
   "execution_count": 9,
   "metadata": {
    "pycharm": {
     "is_executing": false,
     "name": "#%%\n"
    }
   },
   "outputs": [],
   "source": [
    "assert [2 ** i for i in range(9)] == [1, 2, 4, 8, 16, 32, 64, 128, 256]"
   ]
  },
  {
   "cell_type": "markdown",
   "metadata": {},
   "source": [
    "### R-1.12\n",
    "Python’s `random` module includes a function `choice(data)` that returns a\n",
    "random element from a non-empty sequence. The `random` module \n",
    "includes a more basic function `randrange`, with parameterization similar to\n",
    "the built-in `range` function, that return a random choice from the given\n",
    "range. Using only the `randrange` function, implement your own version\n",
    "of the choice function."
   ]
  },
  {
   "cell_type": "code",
   "execution_count": 10,
   "metadata": {
    "pycharm": {
     "is_executing": false,
     "name": "#%%\n"
    }
   },
   "outputs": [],
   "source": [
    "def my_choice(data):\n",
    "    return data[random.randrange(len(data))]\n",
    "\n",
    "\n",
    "some_data = [1, 2, 4, 8, 16, 32, 64, 128, 256]\n",
    "for i in range(100):\n",
    "    assert my_choice(some_data) in some_data"
   ]
  },
  {
   "cell_type": "markdown",
   "metadata": {},
   "source": [
    "### C-1.13\n",
    "Write a pseudo-code description of a function that reverses a list of n\n",
    "integers, so that the numbers are listed in the opposite order than they\n",
    "were before, and compare this method to an equivalent Python function\n",
    "for doing the same thing.\n",
    "\n",
    "#### Answer\n",
    "use the slice construct `[::-1]`"
   ]
  },
  {
   "cell_type": "code",
   "execution_count": 11,
   "metadata": {
    "pycharm": {
     "is_executing": false,
     "name": "#%%\n"
    }
   },
   "outputs": [],
   "source": [
    "assert [1, 2, 3][::-1] == [3, 2, 1]"
   ]
  },
  {
   "cell_type": "markdown",
   "metadata": {},
   "source": [
    "### C-1.14\n",
    "Write a short Python function that takes a sequence of integer values and\n",
    "determines if there is a distinct pair of numbers in the sequence whose\n",
    "product is odd."
   ]
  },
  {
   "cell_type": "code",
   "execution_count": 12,
   "metadata": {
    "pycharm": {
     "is_executing": false,
     "name": "#%%\n"
    }
   },
   "outputs": [],
   "source": [
    "def odd_pair(data):\n",
    "    for i in range(len(data)):\n",
    "        for k in range(len(data)):\n",
    "            if i != k and data[i] * data[k] % 2 != 0:\n",
    "                return True\n",
    "    return False\n",
    "\n",
    "\n",
    "assert odd_pair([3, 5, 6, 8])\n",
    "assert not odd_pair([3, 2, 8, 16])\n",
    "assert not odd_pair([2, 22, 70])"
   ]
  },
  {
   "cell_type": "markdown",
   "metadata": {},
   "source": [
    "### C-1.15\n",
    "Write a Python function that takes a sequence of numbers and determines\n",
    "if all the numbers are different from each other (that is, they are distinct)."
   ]
  },
  {
   "cell_type": "code",
   "execution_count": 13,
   "metadata": {
    "pycharm": {
     "is_executing": false,
     "name": "#%%\n"
    }
   },
   "outputs": [],
   "source": [
    "def is_distinct(data):\n",
    "    return True if len(set(data)) == len(data) else False\n",
    "\n",
    "\n",
    "assert is_distinct([1, 2, 3])\n",
    "assert not is_distinct([1, 1, 2, 3])"
   ]
  },
  {
   "cell_type": "markdown",
   "metadata": {},
   "source": [
    "### C-1.16\n",
    "In our implementation of the scale function (page 25), the body of the loop\n",
    "executes the command `data[j] *= factor`. We have discussed that numeric\n",
    "types are immutable, and that use of the `*=` operator in this context causes\n",
    "the creation of a new instance (not the mutation of an existing instance).\n",
    "How is it still possible, then, that our implementation of scale changes the\n",
    "actual parameter sent by the caller?\n",
    "\n",
    "#### Answer\n",
    "This is due to the immutable nature of the list. We are changing the object \n",
    "in an alias that is being pointed at"
   ]
  },
  {
   "cell_type": "markdown",
   "metadata": {},
   "source": [
    "### C-1.17\n",
    "Had we implemented the scale function (page 25) as follows, does it work\n",
    "properly?\n",
    "```python\n",
    "def scale(data, factor):\n",
    "    for val in data:\n",
    "        val *= factor\n",
    "```\n",
    "Explain why or why not.\n",
    "\n",
    "#### Answer\n",
    "No since this is not making any changes on the mutable list"
   ]
  },
  {
   "cell_type": "markdown",
   "metadata": {},
   "source": [
    "### C-1.18\n",
    "Demonstrate how to use Python’s list comprehension syntax to produce\n",
    "the list `[0, 2, 6, 12, 20, 30, 42, 56, 72, 90]`."
   ]
  },
  {
   "cell_type": "code",
   "execution_count": 14,
   "metadata": {
    "pycharm": {
     "is_executing": false,
     "name": "#%%\n"
    }
   },
   "outputs": [],
   "source": [
    "assert [x * (x + 1) for x in range(10)] == [0, 2, 6, 12, 20, 30, 42, 56, 72, 90]"
   ]
  },
  {
   "cell_type": "markdown",
   "metadata": {},
   "source": [
    "### C-1.19\n",
    "Demonstrate how to use Python’s list comprehension syntax to produce\n",
    "the list `[ a , b , c , ..., z ]`, but without having to type all 26 such\n",
    "characters literally"
   ]
  },
  {
   "cell_type": "code",
   "execution_count": 15,
   "metadata": {
    "pycharm": {
     "is_executing": false,
     "name": "#%%\n"
    }
   },
   "outputs": [],
   "source": [
    "assert [chr(i) for i in range(97, 97 + 26)] == ['a', 'b', 'c', 'd', 'e', 'f', 'g', 'h', \n",
    "                                                'i', 'j', 'k', 'l', 'm',\n",
    "                                                'n', 'o', 'p', 'q', 'r', 's', 't', \n",
    "                                                'u', 'v', 'w', 'x', 'y', 'z']"
   ]
  },
  {
   "cell_type": "markdown",
   "metadata": {},
   "source": [
    "### C-1.20\n",
    "Python’s random module includes a function `shuffle(data)` that accepts a\n",
    "list of elements and randomly reorders the elements so that each possible \n",
    "order occurs with equal probability. The `random` module includes a\n",
    "more basic function `randint(a, b)` that returns a uniformly random integer\n",
    "from a to b (including both endpoints). Using only the `randint` function,\n",
    "implement your own version of the shuffle function"
   ]
  },
  {
   "cell_type": "code",
   "execution_count": 16,
   "metadata": {
    "pycharm": {
     "is_executing": false,
     "name": "#%%\n"
    }
   },
   "outputs": [],
   "source": [
    "def my_shuffle(data):\n",
    "    shuffled_data = []\n",
    "    while len(data) > 0:\n",
    "        shuffled_data.append(data.pop(random.randint(0, len(data) - 1)))\n",
    "    return shuffled_data\n",
    "\n",
    "\n",
    "assert len(my_shuffle([8, 6, 3, 5, 7])) == len([8, 6, 3, 5, 7])\n",
    "assert set(my_shuffle([8, 6, 3, 5, 7])) - {8, 6, 3, 5, 7} == set()"
   ]
  },
  {
   "cell_type": "markdown",
   "metadata": {},
   "source": [
    "### C-1.21\n",
    "Write a Python program that repeatedly reads lines from standard input\n",
    "until an `EOFError` is raised, and then outputs those lines in reverse order\n",
    "(a user can indicate end of input by typing `ctrl-D`)."
   ]
  },
  {
   "cell_type": "code",
   "execution_count": 17,
   "metadata": {
    "pycharm": {
     "is_executing": false,
     "name": "#%%\n"
    }
   },
   "outputs": [
    {
     "name": "stdout",
     "text": [
      "\n",
      "Testing 3\n",
      "Testing 2\n",
      "Testing 1\n"
     ],
     "output_type": "stream"
    }
   ],
   "source": [
    "def reverse_inputs():\n",
    "    inputs = []\n",
    "    while True:\n",
    "        try:\n",
    "            some_input = input('Insert some text (ctl-D to stop): ')\n",
    "            if not some_input:\n",
    "                break\n",
    "            inputs.append(some_input)\n",
    "        except EOFError:\n",
    "            break\n",
    "    print()\n",
    "    for some_input in inputs[::-1]:\n",
    "        print(some_input)\n",
    "\n",
    "\n",
    "reverse_inputs()"
   ]
  },
  {
   "cell_type": "markdown",
   "metadata": {},
   "source": [
    "### C-1.22\n",
    "Write a short Python program that takes two arrays `a` and `b` of length `n`\n",
    "storing `int` values, and returns the dot product of `a` and `b`. That is, it returns\n",
    "an array `c` of length n such that `c[i] = a[i] · b[i]`, for `i = 0,...,n− 1`."
   ]
  },
  {
   "cell_type": "code",
   "execution_count": 18,
   "metadata": {
    "pycharm": {
     "is_executing": false,
     "name": "#%%\n"
    }
   },
   "outputs": [],
   "source": [
    "def dot_prod(a, b):\n",
    "    assert len(a) == len(b), 'Collections must be same length'\n",
    "    return [a[i] * b[i] for i in range(len(a))]\n",
    "\n",
    "\n",
    "assert dot_prod([1, 2, 3], [4, 5, 6]) == [4, 10, 18]"
   ]
  },
  {
   "cell_type": "markdown",
   "metadata": {},
   "source": [
    "### C-1.23\n",
    "Give an example of a Python code fragment that attempts to write an element \n",
    "to a list based on an index that may be out of bounds. If that index\n",
    "is out of bounds, the program should catch the exception that results, and\n",
    "print the following error message:\n",
    "\n",
    "“Don’t try buffer overflow attacks in Python!”"
   ]
  },
  {
   "cell_type": "code",
   "execution_count": 19,
   "metadata": {
    "pycharm": {
     "is_executing": false,
     "name": "#%%\n"
    }
   },
   "outputs": [
    {
     "name": "stdout",
     "text": [
      "Don't try buffer overflow attacks in Python!\n"
     ],
     "output_type": "stream"
    }
   ],
   "source": [
    "some_data = [0, 2, 6, 12, 20, 30, 42, 56, 72, 90]\n",
    "i = 0\n",
    "while i <= len(some_data):\n",
    "    try:\n",
    "        num = some_data[i]\n",
    "    except IndexError:\n",
    "        print(\"Don't try buffer overflow attacks in Python!\")\n",
    "    i += 1"
   ]
  },
  {
   "cell_type": "markdown",
   "metadata": {},
   "source": [
    "### C-1.24\n",
    "Write a short Python function that counts the number of vowels in a given\n",
    "character string."
   ]
  },
  {
   "cell_type": "code",
   "execution_count": 20,
   "metadata": {
    "pycharm": {
     "is_executing": false,
     "name": "#%%\n"
    }
   },
   "outputs": [],
   "source": [
    "def count_vowels(string):\n",
    "    total = 0\n",
    "    for char in 'aeiou':\n",
    "        total += string.lower().count(char)\n",
    "    return total\n",
    "\n",
    "\n",
    "assert count_vowels('If you know the exact number of input') == 12"
   ]
  },
  {
   "cell_type": "markdown",
   "metadata": {},
   "source": [
    "### C-1.25\n",
    "Write a short Python function that takes a string s, representing a sentence,\n",
    "and returns a copy of the string with all punctuation removed. \n",
    "For example, if given the string \"Let s try, Mike.\", this function would return\n",
    "\"Lets try Mike\"."
   ]
  },
  {
   "cell_type": "code",
   "execution_count": 21,
   "metadata": {
    "pycharm": {
     "is_executing": false,
     "name": "#%%\n"
    }
   },
   "outputs": [],
   "source": [
    "def remove_punctuation(string):\n",
    "    for char in string.lower():\n",
    "        if char not in 'abcdefghijklmnopqrstuvwxyz ' :\n",
    "            string = string.replace(char, '')\n",
    "    return string\n",
    "\n",
    "\n",
    "assert remove_punctuation(\"Let's try, Mike.\") == 'Lets try Mike'"
   ]
  },
  {
   "cell_type": "markdown",
   "metadata": {},
   "source": [
    "### C-1.26\n",
    "Write a short program that takes as input three integers, `a`, `b`, and `c`, from\n",
    "the console and determines if they can be used in a correct arithmetic\n",
    "formula (in the given order), like `a+ b = c`, `a = b− c`, or `a∗b = c`."
   ]
  },
  {
   "cell_type": "code",
   "execution_count": 22,
   "metadata": {
    "pycharm": {
     "is_executing": false,
     "name": "#%%\n"
    }
   },
   "outputs": [],
   "source": [
    "def is_solution(a, b, c):\n",
    "    return (a + b == c) or (a == b - c) or (a * b == c)\n",
    "\n",
    "\n",
    "assert is_solution(1, 2, 3)\n",
    "assert is_solution(3, 10, 7)\n",
    "assert is_solution(4, 8, 32)\n",
    "assert not is_solution(0, 1, 3)"
   ]
  },
  {
   "cell_type": "markdown",
   "metadata": {},
   "source": [
    "### C-1.27\n",
    "In Section 1.8, we provided three different implementations of a generator\n",
    "that computes factors of a given integer. The third of those implementations, \n",
    "from page 41, was the most efficient, but we noted that it did not\n",
    "yield the factors in increasing order. Modify the generator so that it reports\n",
    "factors in increasing order, while maintaining its general performance advantages."
   ]
  },
  {
   "cell_type": "code",
   "execution_count": 23,
   "metadata": {
    "pycharm": {
     "is_executing": false,
     "name": "#%%\n"
    }
   },
   "outputs": [],
   "source": [
    "def factors(n):\n",
    "    assert isinstance(n, int), 'Please pass an integer'\n",
    "    k = 1\n",
    "    big_factors = []\n",
    "    while k * k < n:\n",
    "        if n % k == 0:\n",
    "            big_factors.append(n // k)\n",
    "            yield k\n",
    "        k += 1\n",
    "    if k * k == n:\n",
    "        yield k\n",
    "    for factor in big_factors[::-1]:\n",
    "        yield factor\n",
    "\n",
    "\n",
    "assert tuple(factors(100)) == (1, 2, 4, 5, 10, 20, 25, 50, 100)\n",
    "assert tuple(factors(73)) == (1, 73)\n",
    "assert tuple(factors(36)) == (1, 2, 3, 4, 6, 9, 12, 18, 36)"
   ]
  },
  {
   "cell_type": "markdown",
   "metadata": {},
   "source": [
    "### C-1.28\n",
    "The **p-norm** of a vector $v = (v_1,v_2,...,v_n)$ in $n$-dimensional space is defined as\n",
    "\n",
    "$$||v|| = \\sqrt[p]{v^p_1+v^p_2+...+v^p_n}$$\n",
    "\n",
    "For the special case of $p = 2$, this results in the traditional **Euclidean\n",
    "norm**, which represents the length of the vector. For example, \n",
    "the Euclidean norm of a two-dimensional vector with coordinates $(4,3)$ has a\n",
    "Euclidean norm of $\\sqrt{4^2 + 3^2} = \\sqrt{16 + 9} = \\sqrt{25} = 5$. \n",
    "Give an implementation of a function named norm such that `norm(v, p)` returns the p-norm\n",
    "value of `v` and `norm(v)` returns the Euclidean norm of `v`. You may assume\n",
    "that `v` is a list of numbers."
   ]
  },
  {
   "cell_type": "code",
   "execution_count": 24,
   "metadata": {
    "pycharm": {
     "is_executing": false,
     "name": "#%%\n"
    }
   },
   "outputs": [],
   "source": [
    "def norm(v, p=2):\n",
    "    return sum(x ** p for x in v) ** (1 / p)\n",
    "\n",
    "\n",
    "assert norm([3, 4]) == 5\n",
    "assert norm([3, 4], 3) == (27 + 64) ** (1 / 3)"
   ]
  },
  {
   "cell_type": "markdown",
   "metadata": {},
   "source": [
    "### P-1.29"
   ]
  },
  {
   "cell_type": "code",
   "execution_count": 24,
   "metadata": {
    "pycharm": {
     "is_executing": false,
     "name": "#%%\n"
    }
   },
   "outputs": [],
   "source": []
  }
 ],
 "metadata": {
  "kernelspec": {
   "display_name": "Python 3",
   "language": "python",
   "name": "python3"
  },
  "language_info": {
   "codemirror_mode": {
    "name": "ipython",
    "version": 3
   },
   "file_extension": ".py",
   "mimetype": "text/x-python",
   "name": "python",
   "nbconvert_exporter": "python",
   "pygments_lexer": "ipython3",
   "version": "3.8.0"
  },
  "pycharm": {
   "stem_cell": {
    "cell_type": "raw",
    "metadata": {
     "collapsed": false
    },
    "source": []
   }
  }
 },
 "nbformat": 4,
 "nbformat_minor": 2
}