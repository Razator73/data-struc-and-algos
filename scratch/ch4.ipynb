{
 "cells": [
  {
   "cell_type": "code",
   "execution_count": 1,
   "metadata": {
    "collapsed": true
   },
   "outputs": [],
   "source": [
    "# import statements go here if needed\n",
    "import os\n",
    "import time\n",
    "import sys"
   ]
  },
  {
   "cell_type": "code",
   "execution_count": 2,
   "outputs": [],
   "source": [
    "def factorial(n):\n",
    "    assert n >= 0 and isinstance(n, int), 'Must be a non-negative integer'\n",
    "    if n == 0:\n",
    "        return 1\n",
    "    else:\n",
    "        return n * factorial(n - 1)"
   ],
   "metadata": {
    "collapsed": false,
    "pycharm": {
     "name": "#%%\n"
    }
   }
  },
  {
   "cell_type": "code",
   "execution_count": 3,
   "outputs": [
    {
     "name": "stdout",
     "output_type": "stream",
     "text": [
      "120\n",
      "6\n"
     ]
    }
   ],
   "source": [
    "print(factorial(5))\n",
    "print(factorial(3))"
   ],
   "metadata": {
    "collapsed": false,
    "pycharm": {
     "name": "#%%\n"
    }
   }
  },
  {
   "cell_type": "code",
   "execution_count": 4,
   "outputs": [
    {
     "name": "stdout",
     "output_type": "stream",
     "text": [
      "good it errored out as expected\n"
     ]
    }
   ],
   "source": [
    "try:\n",
    "    print(factorial(8.5))\n",
    "except AssertionError:\n",
    "    print('good it errored out as expected')"
   ],
   "metadata": {
    "collapsed": false,
    "pycharm": {
     "name": "#%%\n"
    }
   }
  },
  {
   "cell_type": "code",
   "execution_count": 5,
   "outputs": [],
   "source": [
    "def draw_line(tick_length, tick_label=''):\n",
    "    \"\"\"Draw one line with given tick length (followed by optional label)\"\"\"\n",
    "    line='-' * tick_length\n",
    "    if tick_label:\n",
    "        line += f' {tick_label}'\n",
    "    print(line)\n",
    "\n",
    "\n",
    "def draw_interval(center_length):\n",
    "    \"\"\"Draw tick interval based upon a central tick length.\"\"\"\n",
    "    if center_length > 0:                   # stop when length drops to 0\n",
    "        draw_interval(center_length - 1)    # recursively draw top ticks\n",
    "        draw_line(center_length)            # draw center tick\n",
    "        draw_interval(center_length -1)     # recursively draw bottom ticks\n",
    "\n",
    "\n",
    "def draw_ruler(num_inches, major_length):\n",
    "    draw_line(major_length, 0)\n",
    "    for j in range(1, 1 + num_inches):\n",
    "        draw_interval(major_length - 1)\n",
    "        draw_line(major_length, j)"
   ],
   "metadata": {
    "collapsed": false,
    "pycharm": {
     "name": "#%%\n"
    }
   }
  },
  {
   "cell_type": "code",
   "execution_count": 6,
   "outputs": [
    {
     "name": "stdout",
     "output_type": "stream",
     "text": [
      "----\n",
      "-\n",
      "--\n",
      "-\n",
      "---\n",
      "-\n",
      "--\n",
      "-\n",
      "---- 1\n",
      "-\n",
      "--\n",
      "-\n",
      "---\n",
      "-\n",
      "--\n",
      "-\n",
      "---- 2\n"
     ]
    }
   ],
   "source": [
    "draw_ruler(2, 4)"
   ],
   "metadata": {
    "collapsed": false,
    "pycharm": {
     "name": "#%%\n"
    }
   }
  },
  {
   "cell_type": "code",
   "execution_count": 7,
   "outputs": [
    {
     "name": "stdout",
     "output_type": "stream",
     "text": [
      "---\n",
      "-\n",
      "--\n",
      "-\n",
      "--- 1\n",
      "-\n",
      "--\n",
      "-\n",
      "--- 2\n",
      "-\n",
      "--\n",
      "-\n",
      "--- 3\n"
     ]
    }
   ],
   "source": [
    "draw_ruler(3, 3)"
   ],
   "metadata": {
    "collapsed": false,
    "pycharm": {
     "name": "#%%\n"
    }
   }
  },
  {
   "cell_type": "code",
   "execution_count": 8,
   "outputs": [
    {
     "name": "stdout",
     "output_type": "stream",
     "text": [
      "-----\n",
      "-\n",
      "--\n",
      "-\n",
      "---\n",
      "-\n",
      "--\n",
      "-\n",
      "----\n",
      "-\n",
      "--\n",
      "-\n",
      "---\n",
      "-\n",
      "--\n",
      "-\n",
      "----- 1\n"
     ]
    }
   ],
   "source": [
    "draw_ruler(1, 5)"
   ],
   "metadata": {
    "collapsed": false,
    "pycharm": {
     "name": "#%%\n"
    }
   }
  },
  {
   "cell_type": "code",
   "execution_count": 9,
   "outputs": [],
   "source": [
    "def binary_search(data, target, low, high):\n",
    "    \"\"\"Return True if target is found in indicated portion of a Python list.\n",
    "\n",
    "    The search only considers the portion from data[low] to data[high] inclusive\n",
    "    \"\"\"\n",
    "    if low > high:\n",
    "        return False                                            # interval is empty; no match\n",
    "\n",
    "    mid = (low + high) // 2\n",
    "    if target == data[mid]:                                     # found match\n",
    "        return True\n",
    "    elif target < data[mid]:\n",
    "        # recur on the portion left of the middle\n",
    "        return binary_search(data, target, low, mid - 1)\n",
    "    else:\n",
    "        # recur on the portion right of the middle\n",
    "        return binary_search(data, target, mid + 1, high)"
   ],
   "metadata": {
    "collapsed": false,
    "pycharm": {
     "name": "#%%\n"
    }
   }
  },
  {
   "cell_type": "code",
   "execution_count": 10,
   "outputs": [],
   "source": [
    "def disk_usage(path):\n",
    "    total = os.path.getsize(path)\n",
    "    if os.path.isdir(path):\n",
    "        for filename in os.listdir(path):\n",
    "            child_path = os.path.join(path, filename)\n",
    "            total += disk_usage(child_path)\n",
    "\n",
    "    print('{0:<7}'.format(total), path)\n",
    "    return total"
   ],
   "metadata": {
    "collapsed": false,
    "pycharm": {
     "name": "#%%\n"
    }
   }
  },
  {
   "cell_type": "code",
   "execution_count": 11,
   "outputs": [
    {
     "data": {
      "text/plain": "'/home/ryan/development/other-projects/data-struc-and-algos/scratch'"
     },
     "execution_count": 11,
     "metadata": {},
     "output_type": "execute_result"
    }
   ],
   "source": [
    "os.getcwd()"
   ],
   "metadata": {
    "collapsed": false,
    "pycharm": {
     "name": "#%%\n"
    }
   }
  },
  {
   "cell_type": "code",
   "execution_count": 12,
   "outputs": [
    {
     "name": "stdout",
     "output_type": "stream",
     "text": [
      "24169   /home/ryan/development/other-projects/data-struc-and-algos/exercises/ch2.ipynb\n",
      "22527   /home/ryan/development/other-projects/data-struc-and-algos/exercises/ch1.ipynb\n",
      "51648   /home/ryan/development/other-projects/data-struc-and-algos/exercises/ch3.ipynb\n",
      "5107    /home/ryan/development/other-projects/data-struc-and-algos/exercises/ch1.py\n",
      "107547  /home/ryan/development/other-projects/data-struc-and-algos/exercises\n",
      "26191   /home/ryan/development/other-projects/data-struc-and-algos/scratch/ch2.ipynb\n",
      "51329   /home/ryan/development/other-projects/data-struc-and-algos/scratch/ch4.ipynb\n",
      "81616   /home/ryan/development/other-projects/data-struc-and-algos/scratch\n",
      "19      /home/ryan/development/other-projects/data-struc-and-algos/.gitignore\n",
      "710     /home/ryan/development/other-projects/data-struc-and-algos/README.md\n",
      "25081   /home/ryan/development/other-projects/data-struc-and-algos/Pipfile.lock\n",
      "218     /home/ryan/development/other-projects/data-struc-and-algos/Pipfile\n",
      "240     /home/ryan/development/other-projects/data-struc-and-algos/.git/info/exclude\n",
      "4336    /home/ryan/development/other-projects/data-struc-and-algos/.git/info\n",
      "315     /home/ryan/development/other-projects/data-struc-and-algos/.git/config\n",
      "73      /home/ryan/development/other-projects/data-struc-and-algos/.git/description\n",
      "4096    /home/ryan/development/other-projects/data-struc-and-algos/.git/objects/info\n",
      "423     /home/ryan/development/other-projects/data-struc-and-algos/.git/objects/d3/aa989008fe36892cd6d703beec323e1d650312\n",
      "4519    /home/ryan/development/other-projects/data-struc-and-algos/.git/objects/d3\n",
      "216     /home/ryan/development/other-projects/data-struc-and-algos/.git/objects/cd/723864544e9a0c28be8c3942d1dccf6f8328cc\n",
      "4312    /home/ryan/development/other-projects/data-struc-and-algos/.git/objects/cd\n",
      "5761    /home/ryan/development/other-projects/data-struc-and-algos/.git/objects/fe/99d531a47d20ecf8143b289b23d05d8eaba5bb\n",
      "9857    /home/ryan/development/other-projects/data-struc-and-algos/.git/objects/fe\n",
      "139     /home/ryan/development/other-projects/data-struc-and-algos/.git/objects/f2/55b8b1a7ad43f504b001a3147fcf1bb91e251a\n",
      "5349    /home/ryan/development/other-projects/data-struc-and-algos/.git/objects/f2/340afbbf5f825eab2ee569adbd3b1ee5809475\n",
      "9584    /home/ryan/development/other-projects/data-struc-and-algos/.git/objects/f2\n",
      "133     /home/ryan/development/other-projects/data-struc-and-algos/.git/objects/70/57714eecc640b82938d19c6af0fde6182c263e\n",
      "4229    /home/ryan/development/other-projects/data-struc-and-algos/.git/objects/70\n",
      "54      /home/ryan/development/other-projects/data-struc-and-algos/.git/objects/1a/6d1286ec4c2de74c07777c32231e791e4bc9fe\n",
      "4150    /home/ryan/development/other-projects/data-struc-and-algos/.git/objects/1a\n",
      "192     /home/ryan/development/other-projects/data-struc-and-algos/.git/objects/f0/c3d3b4ee23a52e60b2790eb3f2de2b4f9574b5\n",
      "54      /home/ryan/development/other-projects/data-struc-and-algos/.git/objects/f0/a9842598ac6026e764bf51d3c64f53abc1b0e2\n",
      "4342    /home/ryan/development/other-projects/data-struc-and-algos/.git/objects/f0\n",
      "637     /home/ryan/development/other-projects/data-struc-and-algos/.git/objects/e8/141bde5f620966234cf38f9889698d9a53313c\n",
      "313     /home/ryan/development/other-projects/data-struc-and-algos/.git/objects/e8/a667c8df6c211f1a3d44fff0c0ee55d059e84e\n",
      "5046    /home/ryan/development/other-projects/data-struc-and-algos/.git/objects/e8\n",
      "54      /home/ryan/development/other-projects/data-struc-and-algos/.git/objects/ee/c773aa027cd924f2b4b5661ec18cd22e59d036\n",
      "4150    /home/ryan/development/other-projects/data-struc-and-algos/.git/objects/ee\n",
      "148     /home/ryan/development/other-projects/data-struc-and-algos/.git/objects/89/eb733e1dbe4034449f3c43c5e5ca20d91d9667\n",
      "170     /home/ryan/development/other-projects/data-struc-and-algos/.git/objects/89/078a198edc1808743534ef748c48ceb461eddb\n",
      "4414    /home/ryan/development/other-projects/data-struc-and-algos/.git/objects/89\n",
      "3586    /home/ryan/development/other-projects/data-struc-and-algos/.git/objects/55/79f57e43dfbfdee87c807fc63a6879796ac56c\n",
      "7682    /home/ryan/development/other-projects/data-struc-and-algos/.git/objects/55\n",
      "703     /home/ryan/development/other-projects/data-struc-and-algos/.git/objects/97/2ecd19c001d65f36c61736965edf743cfaf8f1\n",
      "4799    /home/ryan/development/other-projects/data-struc-and-algos/.git/objects/97\n",
      "5787    /home/ryan/development/other-projects/data-struc-and-algos/.git/objects/f1/667c5e1352ad2cc8acfc218859eb44bc6cca95\n",
      "9883    /home/ryan/development/other-projects/data-struc-and-algos/.git/objects/f1\n",
      "210     /home/ryan/development/other-projects/data-struc-and-algos/.git/objects/85/faa7a71847f77ae350123be54f7b0a062a5881\n",
      "4306    /home/ryan/development/other-projects/data-struc-and-algos/.git/objects/85\n",
      "1708    /home/ryan/development/other-projects/data-struc-and-algos/.git/objects/9d/5e9a75e139f5f957400e998ae2ddd1b19b99b8\n",
      "5804    /home/ryan/development/other-projects/data-struc-and-algos/.git/objects/9d\n",
      "216     /home/ryan/development/other-projects/data-struc-and-algos/.git/objects/6a/c6b05ff86989b732dfede60cda2de12ee4bcc4\n",
      "4312    /home/ryan/development/other-projects/data-struc-and-algos/.git/objects/6a\n",
      "4704    /home/ryan/development/other-projects/data-struc-and-algos/.git/objects/5b/55324ed19a43c5f100acba5d542193cf72b89b\n",
      "8800    /home/ryan/development/other-projects/data-struc-and-algos/.git/objects/5b\n",
      "80      /home/ryan/development/other-projects/data-struc-and-algos/.git/objects/5c/c9dbd8560f864bac2311f7f73a9176a26b5677\n",
      "4176    /home/ryan/development/other-projects/data-struc-and-algos/.git/objects/5c\n",
      "216     /home/ryan/development/other-projects/data-struc-and-algos/.git/objects/08/9972705680d72990b01460ea02aeff6130e18c\n",
      "4312    /home/ryan/development/other-projects/data-struc-and-algos/.git/objects/08\n",
      "181     /home/ryan/development/other-projects/data-struc-and-algos/.git/objects/c3/1f74ad3fa6e22694e9c971912bc1b2aa3babdb\n",
      "4277    /home/ryan/development/other-projects/data-struc-and-algos/.git/objects/c3\n",
      "175     /home/ryan/development/other-projects/data-struc-and-algos/.git/objects/ae/2c4ebf2fff22a1e1225add1a5cf35388435f3c\n",
      "4271    /home/ryan/development/other-projects/data-struc-and-algos/.git/objects/ae\n",
      "54      /home/ryan/development/other-projects/data-struc-and-algos/.git/objects/ff/2a3f2e8ffaa14292682cc94de406d8462fecd4\n",
      "4150    /home/ryan/development/other-projects/data-struc-and-algos/.git/objects/ff\n",
      "54      /home/ryan/development/other-projects/data-struc-and-algos/.git/objects/8a/4875e3a57fb360712ae007a06a75a1e2cc3cce\n",
      "4150    /home/ryan/development/other-projects/data-struc-and-algos/.git/objects/8a\n",
      "171     /home/ryan/development/other-projects/data-struc-and-algos/.git/objects/2c/b2a4a2eae753fee82364350de24967cf6f9a7d\n",
      "4267    /home/ryan/development/other-projects/data-struc-and-algos/.git/objects/2c\n",
      "54      /home/ryan/development/other-projects/data-struc-and-algos/.git/objects/de/9e307bea4c15fda7ac1fc03c210be9ff8e46d1\n",
      "4150    /home/ryan/development/other-projects/data-struc-and-algos/.git/objects/de\n",
      "171     /home/ryan/development/other-projects/data-struc-and-algos/.git/objects/83/bd043a0a24b766874010254b2d155b56cc5940\n",
      "1589    /home/ryan/development/other-projects/data-struc-and-algos/.git/objects/83/4bdbc7109f6198d239f3388e0773f760246b94\n",
      "5856    /home/ryan/development/other-projects/data-struc-and-algos/.git/objects/83\n",
      "180     /home/ryan/development/other-projects/data-struc-and-algos/.git/objects/f9/051548dfb2c895205ce7567bfeebe784047b3f\n",
      "197     /home/ryan/development/other-projects/data-struc-and-algos/.git/objects/f9/5cbcc2a4237f9095a1db9c5886d8952564d9db\n",
      "4473    /home/ryan/development/other-projects/data-struc-and-algos/.git/objects/f9\n",
      "181     /home/ryan/development/other-projects/data-struc-and-algos/.git/objects/01/378bbdd41f8b11939cc4c61983790ee4abda55\n",
      "4277    /home/ryan/development/other-projects/data-struc-and-algos/.git/objects/01\n",
      "215     /home/ryan/development/other-projects/data-struc-and-algos/.git/objects/88/43109d29fc64df5058ed61b19def5622ed4252\n",
      "4311    /home/ryan/development/other-projects/data-struc-and-algos/.git/objects/88\n",
      "216     /home/ryan/development/other-projects/data-struc-and-algos/.git/objects/9a/7d43841623620c90afd763c9b2f55837419193\n",
      "4312    /home/ryan/development/other-projects/data-struc-and-algos/.git/objects/9a\n",
      "107     /home/ryan/development/other-projects/data-struc-and-algos/.git/objects/2f/d80d73fd4080605dded9916b6e5d9dbb24a040\n",
      "4203    /home/ryan/development/other-projects/data-struc-and-algos/.git/objects/2f\n",
      "216     /home/ryan/development/other-projects/data-struc-and-algos/.git/objects/0f/77da871d0571cbb6c2b756e43d0cd3568c1a91\n",
      "35515   /home/ryan/development/other-projects/data-struc-and-algos/.git/objects/0f/1faac90c1de3e1f80dac25387ef53ec72c864d\n",
      "39827   /home/ryan/development/other-projects/data-struc-and-algos/.git/objects/0f\n",
      "216     /home/ryan/development/other-projects/data-struc-and-algos/.git/objects/fc/10264e1db7981333d0fe59f130b8b3d4a5ca99\n",
      "4312    /home/ryan/development/other-projects/data-struc-and-algos/.git/objects/fc\n",
      "174     /home/ryan/development/other-projects/data-struc-and-algos/.git/objects/43/ab4e35f36ba6a7d736beb3c50a6593719b7042\n",
      "4270    /home/ryan/development/other-projects/data-struc-and-algos/.git/objects/43\n",
      "7472    /home/ryan/development/other-projects/data-struc-and-algos/.git/objects/4f/161829cb66d4e8ff6dfa7440de9991f5070939\n",
      "11568   /home/ryan/development/other-projects/data-struc-and-algos/.git/objects/4f\n",
      "4580    /home/ryan/development/other-projects/data-struc-and-algos/.git/objects/fd/9df9f2edeeecda2a19630ec0258904f883795d\n",
      "8676    /home/ryan/development/other-projects/data-struc-and-algos/.git/objects/fd\n",
      "175     /home/ryan/development/other-projects/data-struc-and-algos/.git/objects/2d/b21e50015c9251756e43e1e1a2a4f33cb702cb\n",
      "4271    /home/ryan/development/other-projects/data-struc-and-algos/.git/objects/2d\n",
      "134     /home/ryan/development/other-projects/data-struc-and-algos/.git/objects/e2/54532a78f7f9b126a1e3e3cf165c97125767d3\n",
      "4230    /home/ryan/development/other-projects/data-struc-and-algos/.git/objects/e2\n",
      "3663    /home/ryan/development/other-projects/data-struc-and-algos/.git/objects/31/a98e70fa9048022b32cfab8eb50505bb1c3e9c\n",
      "7759    /home/ryan/development/other-projects/data-struc-and-algos/.git/objects/31\n",
      "165     /home/ryan/development/other-projects/data-struc-and-algos/.git/objects/b1/8529bab74945a32f764d1ce4f946a9e2249f29\n",
      "4261    /home/ryan/development/other-projects/data-struc-and-algos/.git/objects/b1\n",
      "229     /home/ryan/development/other-projects/data-struc-and-algos/.git/objects/28/a1683c13ed086089d7bb180b27e34e6a58769d\n",
      "4325    /home/ryan/development/other-projects/data-struc-and-algos/.git/objects/28\n",
      "195     /home/ryan/development/other-projects/data-struc-and-algos/.git/objects/57/30b82d76a6ce27128d49ca83d099d28398f380\n",
      "4291    /home/ryan/development/other-projects/data-struc-and-algos/.git/objects/57\n",
      "107     /home/ryan/development/other-projects/data-struc-and-algos/.git/objects/60/63c3d77cab48b5bae6b10f621d13c8185f78ef\n",
      "4203    /home/ryan/development/other-projects/data-struc-and-algos/.git/objects/60\n",
      "217     /home/ryan/development/other-projects/data-struc-and-algos/.git/objects/a8/9e2ce20c9fbd64e8bd0af81758f1b4fe5bd564\n",
      "4313    /home/ryan/development/other-projects/data-struc-and-algos/.git/objects/a8\n",
      "216     /home/ryan/development/other-projects/data-struc-and-algos/.git/objects/67/b10d5ce018f90f0f83b16f24b17542c5783cc7\n",
      "4312    /home/ryan/development/other-projects/data-struc-and-algos/.git/objects/67\n",
      "216     /home/ryan/development/other-projects/data-struc-and-algos/.git/objects/5d/ac28d3fb20305b08d12d86bbc90d435080b43a\n",
      "4312    /home/ryan/development/other-projects/data-struc-and-algos/.git/objects/5d\n",
      "6680    /home/ryan/development/other-projects/data-struc-and-algos/.git/objects/d2/c54d2502a6e453657b7fdc8fe8433e870e4f05\n",
      "176     /home/ryan/development/other-projects/data-struc-and-algos/.git/objects/d2/aaa727bca0e412590491bece393ecd9e228fd4\n",
      "10952   /home/ryan/development/other-projects/data-struc-and-algos/.git/objects/d2\n",
      "216     /home/ryan/development/other-projects/data-struc-and-algos/.git/objects/ea/84047d7c62ef47a4f6030266bc42745900d219\n",
      "10120   /home/ryan/development/other-projects/data-struc-and-algos/.git/objects/ea/ba423851fde3b3b0749d655fa7329f95e1633f\n",
      "14432   /home/ryan/development/other-projects/data-struc-and-algos/.git/objects/ea\n",
      "4096    /home/ryan/development/other-projects/data-struc-and-algos/.git/objects/pack\n",
      "451     /home/ryan/development/other-projects/data-struc-and-algos/.git/objects/53/a9961da7ccb4037001e6d8920928d12afb4d71\n",
      "4547    /home/ryan/development/other-projects/data-struc-and-algos/.git/objects/53\n",
      "10390   /home/ryan/development/other-projects/data-struc-and-algos/.git/objects/7e/36f5181c0212ee83c1bae36099038219d5f0ff\n",
      "14486   /home/ryan/development/other-projects/data-struc-and-algos/.git/objects/7e\n",
      "54      /home/ryan/development/other-projects/data-struc-and-algos/.git/objects/b6/49629946852c3c16408d4d7c2e089e3f2ee5f2\n",
      "4150    /home/ryan/development/other-projects/data-struc-and-algos/.git/objects/b6\n",
      "216     /home/ryan/development/other-projects/data-struc-and-algos/.git/objects/d6/dc71df26d36183ef80e80fc1ca72d201417ac3\n",
      "133     /home/ryan/development/other-projects/data-struc-and-algos/.git/objects/d6/a1bee3c2fd4a70ea0c58a66504fd575d3d5f45\n",
      "4445    /home/ryan/development/other-projects/data-struc-and-algos/.git/objects/d6\n",
      "107     /home/ryan/development/other-projects/data-struc-and-algos/.git/objects/2e/09793f13cd5934d27fc9034303a746dda5f88c\n",
      "4203    /home/ryan/development/other-projects/data-struc-and-algos/.git/objects/2e\n",
      "81      /home/ryan/development/other-projects/data-struc-and-algos/.git/objects/c1/6b9534c212b77603f60884b7d7d807c9ce84a5\n",
      "4177    /home/ryan/development/other-projects/data-struc-and-algos/.git/objects/c1\n",
      "133     /home/ryan/development/other-projects/data-struc-and-algos/.git/objects/b5/d5b1dee0ecc3f57db52dbcba192b9bddfc3ec0\n",
      "4229    /home/ryan/development/other-projects/data-struc-and-algos/.git/objects/b5\n",
      "35      /home/ryan/development/other-projects/data-struc-and-algos/.git/objects/22/ea8a5ec95519e1009451c73b6804f0cf7fdb62\n",
      "4131    /home/ryan/development/other-projects/data-struc-and-algos/.git/objects/22\n",
      "195     /home/ryan/development/other-projects/data-struc-and-algos/.git/objects/59/4a0804997cb0f83b83f8c23803ac8f9a62fcd8\n",
      "4291    /home/ryan/development/other-projects/data-struc-and-algos/.git/objects/59\n",
      "5922    /home/ryan/development/other-projects/data-struc-and-algos/.git/objects/78/3268128e13d0fbc7fe8f13e3a66356503f64ef\n",
      "10018   /home/ryan/development/other-projects/data-struc-and-algos/.git/objects/78\n",
      "216     /home/ryan/development/other-projects/data-struc-and-algos/.git/objects/ce/0d70d61b0831768028c3f572ab398e87c0b8e4\n",
      "4312    /home/ryan/development/other-projects/data-struc-and-algos/.git/objects/ce\n",
      "133     /home/ryan/development/other-projects/data-struc-and-algos/.git/objects/a9/4b901bc2722482da59aa94ba2ab34bb422b64f\n",
      "4229    /home/ryan/development/other-projects/data-struc-and-algos/.git/objects/a9\n",
      "54      /home/ryan/development/other-projects/data-struc-and-algos/.git/objects/25/c903bcbb997b0eaff2ba829875637e8fb32c3f\n",
      "4150    /home/ryan/development/other-projects/data-struc-and-algos/.git/objects/25\n",
      "7455    /home/ryan/development/other-projects/data-struc-and-algos/.git/objects/e4/53fe71939d88aa8db67d366b30ec6e5cfd87b7\n",
      "11551   /home/ryan/development/other-projects/data-struc-and-algos/.git/objects/e4\n",
      "2035    /home/ryan/development/other-projects/data-struc-and-algos/.git/objects/1f/933b7a375e477f31a8f594af74fdd9723397c8\n",
      "34402   /home/ryan/development/other-projects/data-struc-and-algos/.git/objects/1f/895b6f43f70dd0394b0438a6dd1878cfcb78ea\n",
      "40533   /home/ryan/development/other-projects/data-struc-and-algos/.git/objects/1f\n",
      "437428  /home/ryan/development/other-projects/data-struc-and-algos/.git/objects\n",
      "1003    /home/ryan/development/other-projects/data-struc-and-algos/.git/index\n",
      "23      /home/ryan/development/other-projects/data-struc-and-algos/.git/COMMIT_EDITMSG\n",
      "103     /home/ryan/development/other-projects/data-struc-and-algos/.git/FETCH_HEAD\n",
      "41      /home/ryan/development/other-projects/data-struc-and-algos/.git/refs/heads/master\n",
      "4137    /home/ryan/development/other-projects/data-struc-and-algos/.git/refs/heads\n",
      "4096    /home/ryan/development/other-projects/data-struc-and-algos/.git/refs/tags\n",
      "41      /home/ryan/development/other-projects/data-struc-and-algos/.git/refs/remotes/origin/master\n",
      "4137    /home/ryan/development/other-projects/data-struc-and-algos/.git/refs/remotes/origin\n",
      "8233    /home/ryan/development/other-projects/data-struc-and-algos/.git/refs/remotes\n",
      "41      /home/ryan/development/other-projects/data-struc-and-algos/.git/refs/stash\n",
      "20603   /home/ryan/development/other-projects/data-struc-and-algos/.git/refs\n",
      "4096    /home/ryan/development/other-projects/data-struc-and-algos/.git/branches\n",
      "1667    /home/ryan/development/other-projects/data-struc-and-algos/.git/logs/refs/heads/master\n",
      "5763    /home/ryan/development/other-projects/data-struc-and-algos/.git/logs/refs/heads\n",
      "1689    /home/ryan/development/other-projects/data-struc-and-algos/.git/logs/refs/remotes/origin/master\n",
      "5785    /home/ryan/development/other-projects/data-struc-and-algos/.git/logs/refs/remotes/origin\n",
      "9881    /home/ryan/development/other-projects/data-struc-and-algos/.git/logs/refs/remotes\n",
      "202     /home/ryan/development/other-projects/data-struc-and-algos/.git/logs/refs/stash\n",
      "19942   /home/ryan/development/other-projects/data-struc-and-algos/.git/logs/refs\n",
      "1826    /home/ryan/development/other-projects/data-struc-and-algos/.git/logs/HEAD\n",
      "25864   /home/ryan/development/other-projects/data-struc-and-algos/.git/logs\n",
      "23      /home/ryan/development/other-projects/data-struc-and-algos/.git/HEAD\n",
      "41      /home/ryan/development/other-projects/data-struc-and-algos/.git/ORIG_HEAD\n",
      "896     /home/ryan/development/other-projects/data-struc-and-algos/.git/hooks/commit-msg.sample\n",
      "189     /home/ryan/development/other-projects/data-struc-and-algos/.git/hooks/post-update.sample\n",
      "544     /home/ryan/development/other-projects/data-struc-and-algos/.git/hooks/pre-receive.sample\n",
      "1348    /home/ryan/development/other-projects/data-struc-and-algos/.git/hooks/pre-push.sample\n",
      "1642    /home/ryan/development/other-projects/data-struc-and-algos/.git/hooks/pre-commit.sample\n",
      "3327    /home/ryan/development/other-projects/data-struc-and-algos/.git/hooks/fsmonitor-watchman.sample\n",
      "4898    /home/ryan/development/other-projects/data-struc-and-algos/.git/hooks/pre-rebase.sample\n",
      "424     /home/ryan/development/other-projects/data-struc-and-algos/.git/hooks/pre-applypatch.sample\n",
      "478     /home/ryan/development/other-projects/data-struc-and-algos/.git/hooks/applypatch-msg.sample\n",
      "3610    /home/ryan/development/other-projects/data-struc-and-algos/.git/hooks/update.sample\n",
      "1492    /home/ryan/development/other-projects/data-struc-and-algos/.git/hooks/prepare-commit-msg.sample\n",
      "22944   /home/ryan/development/other-projects/data-struc-and-algos/.git/hooks\n",
      "520948  /home/ryan/development/other-projects/data-struc-and-algos/.git\n",
      "3114    /home/ryan/development/other-projects/data-struc-and-algos/book_online_code/ch09/adaptable_heap_priority_queue.py\n",
      "2468    /home/ryan/development/other-projects/data-struc-and-algos/book_online_code/ch09/sorted_priority_queue.py\n",
      "2319    /home/ryan/development/other-projects/data-struc-and-algos/book_online_code/ch09/priority_queue_base.py\n",
      "3520    /home/ryan/development/other-projects/data-struc-and-algos/book_online_code/ch09/heap_priority_queue.py\n",
      "2461    /home/ryan/development/other-projects/data-struc-and-algos/book_online_code/ch09/unsorted_priority_queue.py\n",
      "119     /home/ryan/development/other-projects/data-struc-and-algos/book_online_code/ch09/__init__.py\n",
      "18097   /home/ryan/development/other-projects/data-struc-and-algos/book_online_code/ch09\n",
      "2263    /home/ryan/development/other-projects/data-struc-and-algos/book_online_code/ch13/find_kmp.py\n",
      "1642    /home/ryan/development/other-projects/data-struc-and-algos/book_online_code/ch13/matrix_chain.py\n",
      "1818    /home/ryan/development/other-projects/data-struc-and-algos/book_online_code/ch13/lcs.py\n",
      "80      /home/ryan/development/other-projects/data-struc-and-algos/book_online_code/ch13/__init__.py\n",
      "1536    /home/ryan/development/other-projects/data-struc-and-algos/book_online_code/ch13/find_brute.py\n",
      "2002    /home/ryan/development/other-projects/data-struc-and-algos/book_online_code/ch13/find_boyer_moore.py\n",
      "13437   /home/ryan/development/other-projects/data-struc-and-algos/book_online_code/ch13\n",
      "1956    /home/ryan/development/other-projects/data-struc-and-algos/book_online_code/ch14/transitive_closure.py\n",
      "5959    /home/ryan/development/other-projects/data-struc-and-algos/book_online_code/ch14/graph.py\n",
      "2560    /home/ryan/development/other-projects/data-struc-and-algos/book_online_code/ch14/dfs.py\n",
      "3625    /home/ryan/development/other-projects/data-struc-and-algos/book_online_code/ch14/mst.py\n",
      "2181    /home/ryan/development/other-projects/data-struc-and-algos/book_online_code/ch14/bfs.py\n",
      "3210    /home/ryan/development/other-projects/data-struc-and-algos/book_online_code/ch14/shortest_paths.py\n",
      "2147    /home/ryan/development/other-projects/data-struc-and-algos/book_online_code/ch14/topological_sort.py\n",
      "2620    /home/ryan/development/other-projects/data-struc-and-algos/book_online_code/ch14/partition.py\n",
      "132     /home/ryan/development/other-projects/data-struc-and-algos/book_online_code/ch14/__init__.py\n",
      "4687    /home/ryan/development/other-projects/data-struc-and-algos/book_online_code/ch14/graph_examples.py\n",
      "33173   /home/ryan/development/other-projects/data-struc-and-algos/book_online_code/ch14\n",
      "3558    /home/ryan/development/other-projects/data-struc-and-algos/book_online_code/ch11/avl_tree.py\n",
      "1902    /home/ryan/development/other-projects/data-struc-and-algos/book_online_code/ch11/splay_tree.py\n",
      "13515   /home/ryan/development/other-projects/data-struc-and-algos/book_online_code/ch11/binary_search_tree.py\n",
      "77      /home/ryan/development/other-projects/data-struc-and-algos/book_online_code/ch11/__init__.py\n",
      "5069    /home/ryan/development/other-projects/data-struc-and-algos/book_online_code/ch11/red_black_tree.py\n",
      "28217   /home/ryan/development/other-projects/data-struc-and-algos/book_online_code/ch11\n",
      "5667    /home/ryan/development/other-projects/data-struc-and-algos/book_online_code/ch08/euler_tour.py\n",
      "6320    /home/ryan/development/other-projects/data-struc-and-algos/book_online_code/ch08/tree.py\n",
      "3070    /home/ryan/development/other-projects/data-struc-and-algos/book_online_code/ch08/binary_tree.py\n",
      "7421    /home/ryan/development/other-projects/data-struc-and-algos/book_online_code/ch08/linked_binary_tree.py\n",
      "88      /home/ryan/development/other-projects/data-struc-and-algos/book_online_code/ch08/__init__.py\n",
      "2627    /home/ryan/development/other-projects/data-struc-and-algos/book_online_code/ch08/traversal_examples.py\n",
      "5416    /home/ryan/development/other-projects/data-struc-and-algos/book_online_code/ch08/expression_tree.py\n",
      "34705   /home/ryan/development/other-projects/data-struc-and-algos/book_online_code/ch08\n",
      "2410    /home/ryan/development/other-projects/data-struc-and-algos/book_online_code/ch10/unsorted_table_map.py\n",
      "1616    /home/ryan/development/other-projects/data-struc-and-algos/book_online_code/ch10/map_base.py\n",
      "2710    /home/ryan/development/other-projects/data-struc-and-algos/book_online_code/ch10/multi_map.py\n",
      "2935    /home/ryan/development/other-projects/data-struc-and-algos/book_online_code/ch10/probe_hash_map.py\n",
      "2826    /home/ryan/development/other-projects/data-struc-and-algos/book_online_code/ch10/hash_map_base.py\n",
      "1445    /home/ryan/development/other-projects/data-struc-and-algos/book_online_code/ch10/word_frequency.py\n",
      "5995    /home/ryan/development/other-projects/data-struc-and-algos/book_online_code/ch10/sorted_table_map.py\n",
      "122     /home/ryan/development/other-projects/data-struc-and-algos/book_online_code/ch10/__init__.py\n",
      "2047    /home/ryan/development/other-projects/data-struc-and-algos/book_online_code/ch10/chain_hash_map.py\n",
      "1997    /home/ryan/development/other-projects/data-struc-and-algos/book_online_code/ch10/cost_performance.py\n",
      "28199   /home/ryan/development/other-projects/data-struc-and-algos/book_online_code/ch10\n",
      "3301    /home/ryan/development/other-projects/data-struc-and-algos/book_online_code/ch02/credit_card.py\n",
      "1974    /home/ryan/development/other-projects/data-struc-and-algos/book_online_code/ch02/sequence_abc.py\n",
      "3593    /home/ryan/development/other-projects/data-struc-and-algos/book_online_code/ch02/vector.py\n",
      "1921    /home/ryan/development/other-projects/data-struc-and-algos/book_online_code/ch02/range.py\n",
      "134     /home/ryan/development/other-projects/data-struc-and-algos/book_online_code/ch02/__init__.py\n",
      "4615    /home/ryan/development/other-projects/data-struc-and-algos/book_online_code/ch02/progressions.py\n",
      "2267    /home/ryan/development/other-projects/data-struc-and-algos/book_online_code/ch02/predatory_credit_card.py\n",
      "1609    /home/ryan/development/other-projects/data-struc-and-algos/book_online_code/ch02/sequence_iterator.py\n",
      "23510   /home/ryan/development/other-projects/data-struc-and-algos/book_online_code/ch02\n",
      "2040    /home/ryan/development/other-projects/data-struc-and-algos/book_online_code/ch12/quick_inplace.py\n",
      "1633    /home/ryan/development/other-projects/data-struc-and-algos/book_online_code/ch12/decorated_merge_sort.py\n",
      "1602    /home/ryan/development/other-projects/data-struc-and-algos/book_online_code/ch12/quick_select.py\n",
      "2062    /home/ryan/development/other-projects/data-struc-and-algos/book_online_code/ch12/merge_queue.py\n",
      "131     /home/ryan/development/other-projects/data-struc-and-algos/book_online_code/ch12/__init__.py\n",
      "1729    /home/ryan/development/other-projects/data-struc-and-algos/book_online_code/ch12/merge_array.py\n",
      "1837    /home/ryan/development/other-projects/data-struc-and-algos/book_online_code/ch12/quick_queue.py\n",
      "2171    /home/ryan/development/other-projects/data-struc-and-algos/book_online_code/ch12/merge_nonrecur.py\n",
      "17301   /home/ryan/development/other-projects/data-struc-and-algos/book_online_code/ch12\n",
      "1695    /home/ryan/development/other-projects/data-struc-and-algos/book_online_code/ch06/match_html.py\n",
      "1361    /home/ryan/development/other-projects/data-struc-and-algos/book_online_code/ch06/reverse_file.py\n",
      "2928    /home/ryan/development/other-projects/data-struc-and-algos/book_online_code/ch06/array_queue.py\n",
      "3192    /home/ryan/development/other-projects/data-struc-and-algos/book_online_code/ch06/array_stack.py\n",
      "91      /home/ryan/development/other-projects/data-struc-and-algos/book_online_code/ch06/__init__.py\n",
      "1529    /home/ryan/development/other-projects/data-struc-and-algos/book_online_code/ch06/match_delimiters.py\n",
      "14892   /home/ryan/development/other-projects/data-struc-and-algos/book_online_code/ch06\n",
      "1943    /home/ryan/development/other-projects/data-struc-and-algos/book_online_code/ch03/prefix_averages.py\n",
      "2114    /home/ryan/development/other-projects/data-struc-and-algos/book_online_code/ch03/exercises.py\n",
      "1085    /home/ryan/development/other-projects/data-struc-and-algos/book_online_code/ch03/find.py\n",
      "1539    /home/ryan/development/other-projects/data-struc-and-algos/book_online_code/ch03/disjoint.py\n",
      "1497    /home/ryan/development/other-projects/data-struc-and-algos/book_online_code/ch03/unique.py\n",
      "85      /home/ryan/development/other-projects/data-struc-and-algos/book_online_code/ch03/__init__.py\n",
      "1275    /home/ryan/development/other-projects/data-struc-and-algos/book_online_code/ch03/find_max.py\n",
      "13634   /home/ryan/development/other-projects/data-struc-and-algos/book_online_code/ch03\n",
      "1258    /home/ryan/development/other-projects/data-struc-and-algos/book_online_code/ch01/age2.py\n",
      "1120    /home/ryan/development/other-projects/data-struc-and-algos/book_online_code/ch01/factors3.py\n",
      "937     /home/ryan/development/other-projects/data-struc-and-algos/book_online_code/ch01/scale.py\n",
      "1076    /home/ryan/development/other-projects/data-struc-and-algos/book_online_code/ch01/factors2.py\n",
      "1730    /home/ryan/development/other-projects/data-struc-and-algos/book_online_code/ch01/gpa1.py\n",
      "954     /home/ryan/development/other-projects/data-struc-and-algos/book_online_code/ch01/range.py\n",
      "1069    /home/ryan/development/other-projects/data-struc-and-algos/book_online_code/ch01/heartrate.py\n",
      "1128    /home/ryan/development/other-projects/data-struc-and-algos/book_online_code/ch01/fibonacci1.py\n",
      "946     /home/ryan/development/other-projects/data-struc-and-algos/book_online_code/ch01/sum2.py\n",
      "1289    /home/ryan/development/other-projects/data-struc-and-algos/book_online_code/ch01/gpa2.py\n",
      "1194    /home/ryan/development/other-projects/data-struc-and-algos/book_online_code/ch01/factors1.py\n",
      "129     /home/ryan/development/other-projects/data-struc-and-algos/book_online_code/ch01/__init__.py\n",
      "997     /home/ryan/development/other-projects/data-struc-and-algos/book_online_code/ch01/contains.py\n",
      "991     /home/ryan/development/other-projects/data-struc-and-algos/book_online_code/ch01/count.py\n",
      "1113    /home/ryan/development/other-projects/data-struc-and-algos/book_online_code/ch01/age1.py\n",
      "1164    /home/ryan/development/other-projects/data-struc-and-algos/book_online_code/ch01/sum1.py\n",
      "936     /home/ryan/development/other-projects/data-struc-and-algos/book_online_code/ch01/fibonacci2.py\n",
      "22127   /home/ryan/development/other-projects/data-struc-and-algos/book_online_code/ch01\n",
      "3247    /home/ryan/development/other-projects/data-struc-and-algos/book_online_code/ch07/circular_queue.py\n",
      "2902    /home/ryan/development/other-projects/data-struc-and-algos/book_online_code/ch07/linked_queue.py\n",
      "5494    /home/ryan/development/other-projects/data-struc-and-algos/book_online_code/ch07/positional_list.py\n",
      "3133    /home/ryan/development/other-projects/data-struc-and-algos/book_online_code/ch07/doubly_linked_base.py\n",
      "2716    /home/ryan/development/other-projects/data-struc-and-algos/book_online_code/ch07/linked_stack.py\n",
      "176     /home/ryan/development/other-projects/data-struc-and-algos/book_online_code/ch07/__init__.py\n",
      "1619    /home/ryan/development/other-projects/data-struc-and-algos/book_online_code/ch07/insertion_sort_positional.py\n",
      "4154    /home/ryan/development/other-projects/data-struc-and-algos/book_online_code/ch07/favorites_list.py\n",
      "2506    /home/ryan/development/other-projects/data-struc-and-algos/book_online_code/ch07/favorites_list_mtf.py\n",
      "2556    /home/ryan/development/other-projects/data-struc-and-algos/book_online_code/ch07/linked_deque.py\n",
      "32599   /home/ryan/development/other-projects/data-struc-and-algos/book_online_code/ch07\n",
      "1114    /home/ryan/development/other-projects/data-struc-and-algos/book_online_code/ch04/reverse_iterative.py\n",
      "1507    /home/ryan/development/other-projects/data-struc-and-algos/book_online_code/ch04/disk_usage.py\n",
      "1918    /home/ryan/development/other-projects/data-struc-and-algos/book_online_code/ch04/ruler.py\n",
      "1017    /home/ryan/development/other-projects/data-struc-and-algos/book_online_code/ch04/linear_sum.py\n",
      "943     /home/ryan/development/other-projects/data-struc-and-algos/book_online_code/ch04/factorial.py\n",
      "1327    /home/ryan/development/other-projects/data-struc-and-algos/book_online_code/ch04/unique_bad.py\n",
      "1153    /home/ryan/development/other-projects/data-struc-and-algos/book_online_code/ch04/reverse.py\n",
      "1294    /home/ryan/development/other-projects/data-struc-and-algos/book_online_code/ch04/binary_sum.py\n",
      "1503    /home/ryan/development/other-projects/data-struc-and-algos/book_online_code/ch04/binary_search.py\n",
      "1366    /home/ryan/development/other-projects/data-struc-and-algos/book_online_code/ch04/binary_search_iterative.py\n",
      "987     /home/ryan/development/other-projects/data-struc-and-algos/book_online_code/ch04/power_slow.py\n",
      "1183    /home/ryan/development/other-projects/data-struc-and-algos/book_online_code/ch04/fibonacci.py\n",
      "228     /home/ryan/development/other-projects/data-struc-and-algos/book_online_code/ch04/__init__.py\n",
      "1195    /home/ryan/development/other-projects/data-struc-and-algos/book_online_code/ch04/power_fast.py\n",
      "20831   /home/ryan/development/other-projects/data-struc-and-algos/book_online_code/ch04\n",
      "2364    /home/ryan/development/other-projects/data-struc-and-algos/book_online_code/ch05/caesar.py\n",
      "1324    /home/ryan/development/other-projects/data-struc-and-algos/book_online_code/ch05/insertion_sort.py\n",
      "1501    /home/ryan/development/other-projects/data-struc-and-algos/book_online_code/ch05/experiment_list_append.py\n",
      "3593    /home/ryan/development/other-projects/data-struc-and-algos/book_online_code/ch05/dynamic_array.py\n",
      "3177    /home/ryan/development/other-projects/data-struc-and-algos/book_online_code/ch05/high_scores.py\n",
      "86      /home/ryan/development/other-projects/data-struc-and-algos/book_online_code/ch05/__init__.py\n",
      "3085    /home/ryan/development/other-projects/data-struc-and-algos/book_online_code/ch05/tic_tac_toe.py\n",
      "1324    /home/ryan/development/other-projects/data-struc-and-algos/book_online_code/ch05/experiment_list_size.py\n",
      "20550   /home/ryan/development/other-projects/data-struc-and-algos/book_online_code/ch05\n",
      "325368  /home/ryan/development/other-projects/data-struc-and-algos/book_online_code\n",
      "180     /home/ryan/development/other-projects/data-struc-and-algos/.idea/vcs.xml\n",
      "11238   /home/ryan/development/other-projects/data-struc-and-algos/.idea/workspace.xml\n",
      "174     /home/ryan/development/other-projects/data-struc-and-algos/.idea/inspectionProfiles/profiles_settings.xml\n",
      "4270    /home/ryan/development/other-projects/data-struc-and-algos/.idea/inspectionProfiles\n",
      "307     /home/ryan/development/other-projects/data-struc-and-algos/.idea/misc.xml\n",
      "292     /home/ryan/development/other-projects/data-struc-and-algos/.idea/modules.xml\n",
      "284     /home/ryan/development/other-projects/data-struc-and-algos/.idea/data-struc-and-algos.iml\n",
      "20667   /home/ryan/development/other-projects/data-struc-and-algos/.idea\n",
      "1086270 /home/ryan/development/other-projects/data-struc-and-algos\n"
     ]
    },
    {
     "data": {
      "text/plain": "1086270"
     },
     "execution_count": 12,
     "metadata": {},
     "output_type": "execute_result"
    }
   ],
   "source": [
    "disk_usage('/home/ryan/development/other-projects/data-struc-and-algos')"
   ],
   "metadata": {
    "collapsed": false,
    "pycharm": {
     "name": "#%%\n"
    }
   }
  },
  {
   "cell_type": "code",
   "execution_count": 13,
   "outputs": [
    {
     "data": {
      "text/plain": "1056.7822265625"
     },
     "execution_count": 13,
     "metadata": {},
     "output_type": "execute_result"
    }
   ],
   "source": [
    "1082145 / 1024"
   ],
   "metadata": {
    "collapsed": false,
    "pycharm": {
     "name": "#%%\n"
    }
   }
  },
  {
   "cell_type": "code",
   "execution_count": 14,
   "outputs": [],
   "source": [
    "def unique3(S, start, stop):\n",
    "    if stop - start <= 1: return True\n",
    "    elif not unique3(S, start, stop - 1): return False\n",
    "    elif not unique3(S, start + 1, stop): return False\n",
    "    else: return S[start] != S[stop - 1]"
   ],
   "metadata": {
    "collapsed": false,
    "pycharm": {
     "name": "#%%\n"
    }
   }
  },
  {
   "cell_type": "code",
   "execution_count": 15,
   "outputs": [
    {
     "data": {
      "text/plain": "True"
     },
     "execution_count": 15,
     "metadata": {},
     "output_type": "execute_result"
    }
   ],
   "source": [
    "unique3([1, 2, 3], 0, 2)"
   ],
   "metadata": {
    "collapsed": false,
    "pycharm": {
     "name": "#%%\n"
    }
   }
  },
  {
   "cell_type": "code",
   "execution_count": 16,
   "outputs": [
    {
     "data": {
      "text/plain": "False"
     },
     "execution_count": 16,
     "metadata": {},
     "output_type": "execute_result"
    }
   ],
   "source": [
    "unique3([1, 1, 3], 0, 2)"
   ],
   "metadata": {
    "collapsed": false,
    "pycharm": {
     "name": "#%%\n"
    }
   }
  },
  {
   "cell_type": "code",
   "execution_count": 17,
   "outputs": [],
   "source": [
    "def bad_fibonacci(n):\n",
    "    if n <= 1:\n",
    "        return n\n",
    "    else:\n",
    "        return bad_fibonacci(n - 2) + bad_fibonacci(n - 1)"
   ],
   "metadata": {
    "collapsed": false,
    "pycharm": {
     "name": "#%%\n"
    }
   }
  },
  {
   "cell_type": "code",
   "execution_count": 18,
   "outputs": [],
   "source": [
    "def good_fibonacci(n):\n",
    "    if n <= 1:\n",
    "        return n, 0\n",
    "    a ,b = good_fibonacci(n - 1)\n",
    "    return a + b, a"
   ],
   "metadata": {
    "collapsed": false,
    "pycharm": {
     "name": "#%%\n"
    }
   }
  },
  {
   "cell_type": "code",
   "execution_count": 19,
   "outputs": [],
   "source": [
    "sys.setrecursionlimit(30000)"
   ],
   "metadata": {
    "collapsed": false,
    "pycharm": {
     "name": "#%%\n"
    }
   }
  },
  {
   "cell_type": "code",
   "execution_count": 20,
   "outputs": [
    {
     "name": "stdout",
     "output_type": "stream",
     "text": [
      "9227465\n",
      "5.855292558670044\n",
      "9227465\n",
      "0.00013685226440429688\n"
     ]
    }
   ],
   "source": [
    "start = time.time()\n",
    "print(bad_fibonacci(35))\n",
    "print(time.time() - start)\n",
    "\n",
    "start = time.time()\n",
    "print(good_fibonacci(35)[0])\n",
    "print(time.time() - start)"
   ],
   "metadata": {
    "collapsed": false,
    "pycharm": {
     "name": "#%%\n"
    }
   }
  },
  {
   "cell_type": "code",
   "execution_count": 21,
   "outputs": [],
   "source": [
    "def linear_sum(s, n):\n",
    "    \"\"\"Return the sum of the first n numbers of sequence s\"\"\"\n",
    "    if n == 0:\n",
    "        return 0\n",
    "    else:\n",
    "        return linear_sum(s, n - 1) + s[n - 1]"
   ],
   "metadata": {
    "collapsed": false,
    "pycharm": {
     "name": "#%%\n"
    }
   }
  },
  {
   "cell_type": "code",
   "execution_count": 22,
   "outputs": [],
   "source": [
    "def reverse(s, start, stop):\n",
    "    \"\"\"Reverse element in implicit slice s[start:stop]\"\"\"\n",
    "    if start < stop - 1:\n",
    "        s[start], s[stop - 1] = s[stop - 1], s[start]\n",
    "        reverse(s, start + 1, stop -1)"
   ],
   "metadata": {
    "collapsed": false,
    "pycharm": {
     "name": "#%%\n"
    }
   }
  },
  {
   "cell_type": "code",
   "execution_count": 23,
   "outputs": [
    {
     "name": "stdout",
     "output_type": "stream",
     "text": [
      "[15, 5, 9, 8, 2, 6, 3, 4]\n"
     ]
    }
   ],
   "source": [
    "some_seq = [4, 3, 6, 2, 8, 9, 5, 15]\n",
    "reverse(some_seq, 0, len(some_seq))\n",
    "print(some_seq)"
   ],
   "metadata": {
    "collapsed": false,
    "pycharm": {
     "name": "#%%\n"
    }
   }
  },
  {
   "cell_type": "code",
   "execution_count": 24,
   "outputs": [],
   "source": [
    "def power(x, n):\n",
    "    if n == 0:\n",
    "        return 1\n",
    "    return x * power(x, n - 1)"
   ],
   "metadata": {
    "collapsed": false,
    "pycharm": {
     "name": "#%%\n"
    }
   }
  },
  {
   "cell_type": "code",
   "execution_count": 25,
   "outputs": [
    {
     "data": {
      "text/plain": "32"
     },
     "execution_count": 25,
     "metadata": {},
     "output_type": "execute_result"
    }
   ],
   "source": [
    "power(2, 5)"
   ],
   "metadata": {
    "collapsed": false,
    "pycharm": {
     "name": "#%%\n"
    }
   }
  },
  {
   "cell_type": "code",
   "execution_count": 26,
   "outputs": [
    {
     "data": {
      "text/plain": "512"
     },
     "execution_count": 26,
     "metadata": {},
     "output_type": "execute_result"
    }
   ],
   "source": [
    "power(8, 3)"
   ],
   "metadata": {
    "collapsed": false,
    "pycharm": {
     "name": "#%%\n"
    }
   }
  },
  {
   "cell_type": "code",
   "execution_count": 27,
   "outputs": [],
   "source": [
    "def new_power(x, n):\n",
    "    if n == 0:\n",
    "        return 1\n",
    "    partial = power(x, n // 2)\n",
    "    result = partial * partial\n",
    "    if n % 2 == 1:\n",
    "        result *= x\n",
    "    return result"
   ],
   "metadata": {
    "collapsed": false,
    "pycharm": {
     "name": "#%%\n"
    }
   }
  },
  {
   "cell_type": "code",
   "execution_count": 28,
   "outputs": [
    {
     "name": "stdout",
     "output_type": "stream",
     "text": [
      "17.813934564590454\n",
      "9.666301488876343\n"
     ]
    }
   ],
   "source": [
    "start = time.time()\n",
    "for i in range(1000):\n",
    "    power(1, 20000)\n",
    "print(time.time() - start)\n",
    "\n",
    "start = time.time()\n",
    "for i in range(1000):\n",
    "    new_power(1, 20000)\n",
    "print(time.time() - start)"
   ],
   "metadata": {
    "collapsed": false,
    "pycharm": {
     "name": "#%%\n"
    }
   }
  },
  {
   "cell_type": "code",
   "execution_count": 28,
   "outputs": [],
   "source": [
    "\n"
   ],
   "metadata": {
    "collapsed": false,
    "pycharm": {
     "name": "#%%\n"
    }
   }
  }
 ],
 "metadata": {
  "kernelspec": {
   "display_name": "Python 3",
   "language": "python",
   "name": "python3"
  },
  "language_info": {
   "codemirror_mode": {
    "name": "ipython",
    "version": 2
   },
   "file_extension": ".py",
   "mimetype": "text/x-python",
   "name": "python",
   "nbconvert_exporter": "python",
   "pygments_lexer": "ipython2",
   "version": "2.7.6"
  }
 },
 "nbformat": 4,
 "nbformat_minor": 0
}