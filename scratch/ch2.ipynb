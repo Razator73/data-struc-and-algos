{
 "cells": [
  {
   "cell_type": "code",
   "execution_count": 1,
   "metadata": {
    "collapsed": true,
    "pycharm": {
     "is_executing": false
    }
   },
   "outputs": [],
   "source": [
    "class CreditCard:\n",
    "    \"\"\"A consumer credit card.\"\"\"\n",
    "    \n",
    "    def __init__(self, customer, bank, acnt, limit, bal=0):\n",
    "        \"\"\"Create a new credit card instance\n",
    "        \n",
    "        customer   the name of the customer (e.g. 'John Bowman')\n",
    "        bank       the name of the bank (e.g. 'California Savings')\n",
    "        acnt       the account identifier (e.g. '5391 0375 9387 5309')\n",
    "        limit      credit limit (measured in dollars)\n",
    "        bal        the current balance of the card (defaults to zero)\n",
    "        \"\"\"\n",
    "        self._customer = customer\n",
    "        self._bank = bank\n",
    "        self._account = acnt\n",
    "        self._limit = limit\n",
    "        self._balance = bal\n",
    "        \n",
    "    def get_customer(self):\n",
    "        \"\"\"Return name of the customer.\"\"\"\n",
    "        return self._customer\n",
    "    \n",
    "    def get_bank(self):\n",
    "        \"\"\"Return the bank's name.\"\"\"\n",
    "        return self._bank\n",
    "    \n",
    "    def get_account(self):\n",
    "        \"\"\"Return the card identifying number (typically stored as a string).\"\"\"\n",
    "        return self._account\n",
    "    \n",
    "    def get_limit(self):\n",
    "        \"\"\"Return current credit limit.\"\"\"\n",
    "        return self._limit\n",
    "    \n",
    "    def get_balance(self):\n",
    "        \"\"\"Return current balance.\"\"\"\n",
    "        return self._balance\n",
    "    \n",
    "    def charge(self, price):\n",
    "        \"\"\"Charge given price to the card, assuming sufficient credit limit.\n",
    "        \n",
    "        Return True if charge was processed; False if change was denied.\n",
    "        \"\"\"\n",
    "        if price + self._balance > self._limit:\n",
    "            return False\n",
    "        else:\n",
    "            self._balance += price\n",
    "            return True\n",
    "        \n",
    "    def make_payment(self, amount):\n",
    "        \"\"\"Process customer payment that reduces balance.\"\"\"\n",
    "        self._balance -= amount"
   ]
  },
  {
   "cell_type": "code",
   "execution_count": 2,
   "outputs": [],
   "source": [
    "cc = CreditCard('John Doe', '1st Bank', '5391 0375 9387 5309', 1000)"
   ],
   "metadata": {
    "collapsed": false,
    "pycharm": {
     "name": "#%%\n",
     "is_executing": false
    }
   }
  },
  {
   "cell_type": "markdown",
   "source": [
    "### Some tests"
   ],
   "metadata": {
    "collapsed": false,
    "pycharm": {
     "name": "#%% md\n"
    }
   }
  },
  {
   "cell_type": "code",
   "execution_count": 4,
   "outputs": [
    {
     "name": "stdout",
     "text": [
      "Customer = John Bowman\n",
      "Bank = California Savings\n",
      "Account = 5391 0375 9387 5309\n",
      "Limit = 1000\n",
      "Balance = 136\n",
      "New balance = 36\n",
      "\n",
      "Customer = John Bowman\n",
      "Bank = California Federal\n",
      "Account = 3485 0399 3395 1954\n",
      "Limit = 3500\n",
      "Balance = 272\n",
      "New balance = 172\n",
      "New balance = 72\n",
      "\n",
      "Customer = John Bowman\n",
      "Bank = California Finance\n",
      "Account = 5391 0375 9387 5309\n",
      "Limit = 5000\n",
      "Balance = 408\n",
      "New balance = 308\n",
      "New balance = 208\n",
      "New balance = 108\n",
      "New balance = 8\n",
      "\n"
     ],
     "output_type": "stream"
    }
   ],
   "source": [
    "wallet = []\n",
    "wallet.append(CreditCard('John Bowman', 'California Savings', '5391 0375 9387 5309', 1000))\n",
    "wallet.append(CreditCard('John Bowman', 'California Federal', '3485 0399 3395 1954', 3500))\n",
    "wallet.append(CreditCard('John Bowman', 'California Finance', '5391 0375 9387 5309', 5000))\n",
    "\n",
    "for i in range(1, 17):\n",
    "    wallet[0].charge(i)\n",
    "    wallet[1].charge(2 * i)\n",
    "    wallet[2].charge(3 * i)\n",
    "    \n",
    "for c in range(3):\n",
    "    print(f'Customer = {wallet[c].get_customer()}')\n",
    "    print(f'Bank = {wallet[c].get_bank()}')\n",
    "    print(f'Account = {wallet[c].get_account()}')\n",
    "    print(f'Limit = {wallet[c].get_limit()}')\n",
    "    print(f'Balance = {wallet[c].get_balance()}')\n",
    "    while wallet[c].get_balance() > 100:\n",
    "        wallet[c].make_payment(100)\n",
    "        print(f'New balance = {wallet[c].get_balance()}')\n",
    "    print()"
   ],
   "metadata": {
    "collapsed": false,
    "pycharm": {
     "name": "#%%\n",
     "is_executing": false
    }
   }
  },
  {
   "cell_type": "code",
   "execution_count": 5,
   "outputs": [
    {
     "data": {
      "text/plain": "'love melove melove me'"
     },
     "metadata": {},
     "output_type": "execute_result",
     "execution_count": 5
    }
   ],
   "source": [
    "3 * 'love me'"
   ],
   "metadata": {
    "collapsed": false,
    "pycharm": {
     "name": "#%%\n",
     "is_executing": false
    }
   }
  },
  {
   "cell_type": "code",
   "execution_count": 6,
   "outputs": [
    {
     "name": "stdout",
     "text": [
      "True\n",
      "False\n",
      "True\n",
      "True\n"
     ],
     "output_type": "stream"
    }
   ],
   "source": [
    "a = [1, 3, 5]\n",
    "b = [1, 3, 5]\n",
    "c = a\n",
    "print(a == b)\n",
    "print(a is b)\n",
    "print(a == c)\n",
    "print(a is c)"
   ],
   "metadata": {
    "collapsed": false,
    "pycharm": {
     "name": "#%%\n",
     "is_executing": false
    }
   }
  },
  {
   "cell_type": "code",
   "execution_count": 12,
   "outputs": [],
   "source": [
    "class Vector:\n",
    "    \"\"\"Represent a vector in a multidimensional space.\"\"\"\n",
    "    \n",
    "    def __init__(self, d):\n",
    "        \"\"\"Create a d-dimensional vector of zeros.\"\"\"\n",
    "        self._coords = [0] * d\n",
    "        \n",
    "    def __len__(self):\n",
    "        \"\"\"Return the dimension of the vector.\"\"\"\n",
    "        return len(self._coords)\n",
    "    \n",
    "    def __getitem__(self, j):\n",
    "        \"\"\"Return jth coordinate of vector.\"\"\"\n",
    "        return self._coords[j]\n",
    "    \n",
    "    def __setitem__(self, j, val):\n",
    "        \"\"\"Set jth coordinate of vector to given value.\"\"\"\n",
    "        self._coords[j] = val\n",
    "        \n",
    "    def __add__(self, other):\n",
    "        \"\"\"Return sum of two vectors.\"\"\"\n",
    "        if len(self) != len(other):\n",
    "            raise ValueError('dimensions must be the same')\n",
    "        result = Vector(len(self))\n",
    "        for j in range(len(self)):\n",
    "            result[j] = self[j] + other[j]\n",
    "        return result\n",
    "    \n",
    "    def __eq__(self, other):\n",
    "        \"\"\"Return True if vector has same coordinates as other.\"\"\"\n",
    "        return self._coords == other._coords\n",
    "    \n",
    "    def __ne__(self, other):\n",
    "        \"\"\"Return True if vector differs from other.\"\"\"\n",
    "        return not self == other\n",
    "    \n",
    "    def __str__(self):\n",
    "        \"\"\"Produce string representation of vector.\"\"\"\n",
    "        return f'<{str(self._coords)[1:-1]}>'"
   ],
   "metadata": {
    "collapsed": false,
    "pycharm": {
     "name": "#%%\n",
     "is_executing": false
    }
   }
  },
  {
   "cell_type": "code",
   "execution_count": 13,
   "outputs": [
    {
     "name": "stdout",
     "text": [
      "45\n",
      "<0, 46, 0, 0, 90>\n"
     ],
     "output_type": "stream"
    }
   ],
   "source": [
    "v = Vector(5)\n",
    "v[1] = 23\n",
    "v[-1] = 45\n",
    "print(v[4])\n",
    "u = v + v\n",
    "print(u)\n",
    "total = 0\n",
    "for entry in v:\n",
    "    total += entry"
   ],
   "metadata": {
    "collapsed": false,
    "pycharm": {
     "name": "#%%\n",
     "is_executing": false
    }
   }
  },
  {
   "cell_type": "code",
   "execution_count": 11,
   "outputs": [
    {
     "name": "stdout",
     "text": [
      "Help on class Vector in module __main__:\n",
      "\n",
      "class Vector(builtins.object)\n",
      " |  Vector(d)\n",
      " |  \n",
      " |  Represent a vector in a multidimensional space.\n",
      " |  \n",
      " |  Methods defined here:\n",
      " |  \n",
      " |  __add__(self, other)\n",
      " |      Return sum of two vectors.\n",
      " |  \n",
      " |  __eq__(self, other)\n",
      " |      Return True if vector has same coordinates as other.\n",
      " |  \n",
      " |  __init__(self, d)\n",
      " |      Create a d-dimensional vector of zeros.\n",
      " |  \n",
      " |  __len__(self)\n",
      " |      Return the dimension of the vector.\n",
      " |  \n",
      " |  __ne__(self, other)\n",
      " |      Return True if vector differs from other.\n",
      " |  \n",
      " |  __setitem__(self, j, val)\n",
      " |      Set jth coordinate of vector to given value.\n",
      " |  \n",
      " |  __str__(self)\n",
      " |      Produce string representation of vector.\n",
      " |  \n",
      " |  ----------------------------------------------------------------------\n",
      " |  Data descriptors defined here:\n",
      " |  \n",
      " |  __dict__\n",
      " |      dictionary for instance variables (if defined)\n",
      " |  \n",
      " |  __weakref__\n",
      " |      list of weak references to the object (if defined)\n",
      " |  \n",
      " |  ----------------------------------------------------------------------\n",
      " |  Data and other attributes defined here:\n",
      " |  \n",
      " |  __hash__ = None\n",
      "\n"
     ],
     "output_type": "stream"
    }
   ],
   "source": [
    "help(Vector)"
   ],
   "metadata": {
    "collapsed": false,
    "pycharm": {
     "name": "#%%\n",
     "is_executing": false
    }
   }
  },
  {
   "cell_type": "code",
   "execution_count": 14,
   "outputs": [],
   "source": [
    "class SequenceIterator:\n",
    "    \"\"\"An iterator for any of Python's sequence types.\"\"\"\n",
    "    \n",
    "    def __init__(self, sequence):\n",
    "        \"\"\"Create an iterator for the given sequence\"\"\"\n",
    "        self._seq = sequence    # keep a reference to the underlying data\n",
    "        self._k = -1            # will increment to 0 on first call to next\n",
    "        \n",
    "    def __next__(self):\n",
    "        \"\"\"Return the next element, or else raise StopIteration error.\"\"\"\n",
    "        self._k += 1                    # advance to next index\n",
    "        if self._k < len(self._seq):\n",
    "            return self._seq[self._k]   # return the data element\n",
    "        else:\n",
    "            raise StopIteration()       # there are no more elements\n",
    "        \n",
    "    def __iter__(self):\n",
    "        \"\"\"By convention, an iterator must return itself as an iterator.\"\"\"\n",
    "        return self"
   ],
   "metadata": {
    "collapsed": false,
    "pycharm": {
     "name": "#%%\n",
     "is_executing": false
    }
   }
  },
  {
   "cell_type": "code",
   "execution_count": 15,
   "outputs": [
    {
     "name": "stdout",
     "text": [
      "Help on class SequenceIterator in module __main__:\n",
      "\n",
      "class SequenceIterator(builtins.object)\n",
      " |  SequenceIterator(sequence)\n",
      " |  \n",
      " |  An iterator for any of Python's sequence types.\n",
      " |  \n",
      " |  Methods defined here:\n",
      " |  \n",
      " |  __init__(self, sequence)\n",
      " |      Create an iterator for the given sequence\n",
      " |  \n",
      " |  __iter__(self)\n",
      " |      By convention, an iterator must return itself as an iterator.\n",
      " |  \n",
      " |  __next__(self)\n",
      " |      Return the next element, or else raise StopIteration error.\n",
      " |  \n",
      " |  ----------------------------------------------------------------------\n",
      " |  Data descriptors defined here:\n",
      " |  \n",
      " |  __dict__\n",
      " |      dictionary for instance variables (if defined)\n",
      " |  \n",
      " |  __weakref__\n",
      " |      list of weak references to the object (if defined)\n",
      "\n"
     ],
     "output_type": "stream"
    }
   ],
   "source": [
    "help(SequenceIterator)"
   ],
   "metadata": {
    "collapsed": false,
    "pycharm": {
     "name": "#%%\n",
     "is_executing": false
    }
   }
  },
  {
   "cell_type": "code",
   "execution_count": 17,
   "outputs": [],
   "source": [
    "class Range:\n",
    "    \"\"\"A class that mimic's the built-in range class.\"\"\"\n",
    "    \n",
    "    def __init__(self, start, stop=None, step=1):\n",
    "        \"\"\"Initialize a Range instance\n",
    "        \n",
    "        Semantics is similar to built-in range class.\n",
    "        \"\"\"\n",
    "        if step == 0:\n",
    "            raise ValueError('step cannot be 0')\n",
    "        \n",
    "        if stop is None:                # special case of range(n)\n",
    "            start, stop = 0, start      # should be treated as if range(0, n)\n",
    "            \n",
    "        # calculate the effective length once\n",
    "        self._length = max(0, (stop - start + step -1) // step)\n",
    "        \n",
    "        # need knowlede of start and step (but not stop) to support __getitem__\n",
    "        self._start = start\n",
    "        self._step = step\n",
    "        \n",
    "    def __len__(self):\n",
    "        \"\"\"Return the number of entries in the range.\"\"\"\n",
    "        return self._length\n",
    "    \n",
    "    def __getitem__(self, k):\n",
    "        \"\"\"Return entry at index k (using standard interpretation if negative).\"\"\"\n",
    "        if k < 0:\n",
    "            k += self._length                       # attempt to convert negative index\n",
    "        \n",
    "        if not 0 <= k < self._length:\n",
    "            raise IndexError('index out of range')\n",
    "        \n",
    "        return self._start + k * self._step"
   ],
   "metadata": {
    "collapsed": false,
    "pycharm": {
     "name": "#%%\n",
     "is_executing": false
    }
   }
  },
  {
   "cell_type": "code",
   "execution_count": null,
   "outputs": [],
   "source": [
    "\n"
   ],
   "metadata": {
    "collapsed": false,
    "pycharm": {
     "name": "#%%\n"
    }
   }
  }
 ],
 "metadata": {
  "kernelspec": {
   "display_name": "Python 3",
   "language": "python",
   "name": "python3"
  },
  "language_info": {
   "codemirror_mode": {
    "name": "ipython",
    "version": 2
   },
   "file_extension": ".py",
   "mimetype": "text/x-python",
   "name": "python",
   "nbconvert_exporter": "python",
   "pygments_lexer": "ipython2",
   "version": "2.7.6"
  },
  "pycharm": {
   "stem_cell": {
    "cell_type": "raw",
    "source": [],
    "metadata": {
     "collapsed": false
    }
   }
  }
 },
 "nbformat": 4,
 "nbformat_minor": 0
}